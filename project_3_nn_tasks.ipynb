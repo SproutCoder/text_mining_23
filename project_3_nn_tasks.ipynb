{
  "cells": [
    {
      "cell_type": "markdown",
      "metadata": {
        "id": "view-in-github",
        "colab_type": "text"
      },
      "source": [
        "<a href=\"https://colab.research.google.com/github/SproutCoder/text_mining_23/blob/main/project_3_nn_tasks.ipynb\" target=\"_parent\"><img src=\"https://colab.research.google.com/assets/colab-badge.svg\" alt=\"Open In Colab\"/></a>"
      ]
    },
    {
      "cell_type": "markdown",
      "source": [
        "# Project 3: Text Classification using BOW and Neuronal Networks\n",
        "\n",
        "For this project, imagine you are a group of data scientists who want to train a neural network to predict the sentiment of a movie review. You are given the set of IMDb reviews you used for Project 1, split to train (*train.jsonl*) and test data (*test.jsonl*).\n",
        "\n",
        "\n",
        "For this project, you might need the following python packages:\n",
        "- sklearn\n",
        "- pandas\n",
        "- PyTorch\n",
        "\n",
        "For PyTorch installation, please refer to [PyTorch](https://pytorch.org/get-started/locally/).\n",
        "\n",
        "### Enter names and mat. numbers:\n",
        "- Group Name PiKa\n",
        "\n",
        "- Sebastian Pirozhkov, 421892\n",
        "- Christopher Kaschny, 447930\n",
        "- name 3, mat 3\n",
        "- name 4, mat 4"
      ],
      "metadata": {
        "collapsed": false,
        "id": "RpiigCOlcBwM"
      }
    },
    {
      "cell_type": "code",
      "execution_count": 14,
      "outputs": [
        {
          "output_type": "stream",
          "name": "stdout",
          "text": [
            "cpu\n"
          ]
        }
      ],
      "source": [
        "import torch\n",
        "import torch.nn as nn\n",
        "from torch.utils.data import DataLoader, Dataset\n",
        "import nltk\n",
        "from nltk.corpus import stopwords\n",
        "from sklearn.feature_extraction.text import CountVectorizer\n",
        "import pandas as pd\n",
        "import string\n",
        "from sklearn.preprocessing import LabelEncoder\n",
        "from sklearn.metrics import accuracy_score\n",
        "\n",
        "device = torch.device(\"cuda\") if torch.cuda.is_available() else torch.device(\"cpu\")\n",
        "print(device)"
      ],
      "metadata": {
        "ExecuteTime": {
          "end_time": "2023-05-17T08:30:21.590129931Z",
          "start_time": "2023-05-17T08:30:21.549597338Z"
        },
        "colab": {
          "base_uri": "https://localhost:8080/"
        },
        "id": "yA-PljidcBwQ",
        "outputId": "86ce9c1f-11bb-4f6e-ef0f-6ba888c4e7bf"
      }
    },
    {
      "cell_type": "markdown",
      "source": [
        "## Task 1: Numerical Representation of Texts\n",
        "As presented in the lecture, we want to represent texts by a \"bag of words\". Therefore, the text is represented by the bag (or multiset) of its words.\n",
        "\n",
        "a) Proceed as follows:\n",
        "1. remove all stop words\n",
        "2. remove punctuations\n",
        "3. lower words\n",
        "2. create the term-document matrix\n",
        "\n",
        "Hint: You may use your code from Project 1 here."
      ],
      "metadata": {
        "collapsed": false,
        "id": "2YHvXywEcBwU"
      }
    },
    {
      "cell_type": "code",
      "execution_count": 2,
      "outputs": [
        {
          "output_type": "stream",
          "name": "stderr",
          "text": [
            "[nltk_data] Downloading package stopwords to /root/nltk_data...\n",
            "[nltk_data]   Unzipping corpora/stopwords.zip.\n"
          ]
        }
      ],
      "source": [
        "# Function to preprocess text\n",
        "\n",
        "nltk.download('stopwords')\n",
        "\n",
        "def preprocess_text(text):\n",
        "    # Remove punctuation using NLTK\n",
        "    text = \"\".join([word for word in text if word not in string.punctuation])\n",
        "    # Convert words to lowercase\n",
        "    text = text.lower()\n",
        "    # Remove stopwords using NLTK\n",
        "    stop_words = set(stopwords.words('english'))\n",
        "    text = \" \".join([word for word in text.split() if word not in stop_words])\n",
        "    return text"
      ],
      "metadata": {
        "ExecuteTime": {
          "end_time": "2023-05-17T08:30:22.478845059Z",
          "start_time": "2023-05-17T08:30:22.475301557Z"
        },
        "colab": {
          "base_uri": "https://localhost:8080/"
        },
        "id": "kEOTZl6jcBwV",
        "outputId": "d24e692b-6736-4396-ea86-ca8729f28cbb"
      }
    },
    {
      "cell_type": "code",
      "source": [
        "# CREATE TERM-DOC MATRIX\n",
        "\n",
        "# Load the train and test data using pandas\n",
        "train_data = pd.read_json(\"train.jsonl\", lines=True)\n",
        "test_data = pd.read_json(\"test.jsonl\", lines=True)\n",
        "\n",
        "# Combine train and test data for preprocessing\n",
        "combined_data = pd.concat([train_data, test_data], ignore_index=True)\n",
        "\n",
        "# Apply text preprocessing\n",
        "combined_data['processed_text'] = combined_data['text'].apply(preprocess_text)\n",
        "\n",
        "vectorizer = CountVectorizer()\n",
        "term_doc_matrix = vectorizer.fit_transform(combined_data['processed_text'])\n",
        "term_doc_matrix = torch.Tensor(term_doc_matrix.toarray())\n",
        "\n",
        "print(term_doc_matrix)"
      ],
      "metadata": {
        "colab": {
          "base_uri": "https://localhost:8080/"
        },
        "id": "MHlE_SMae5I5",
        "outputId": "62e77adf-0e7e-4e71-e4b5-33160037b14b"
      },
      "execution_count": 3,
      "outputs": [
        {
          "output_type": "stream",
          "name": "stdout",
          "text": [
            "tensor([[0., 0., 0.,  ..., 0., 0., 0.],\n",
            "        [0., 0., 0.,  ..., 0., 0., 0.],\n",
            "        [0., 0., 0.,  ..., 0., 0., 0.],\n",
            "        ...,\n",
            "        [0., 0., 0.,  ..., 0., 0., 0.],\n",
            "        [0., 0., 0.,  ..., 0., 0., 0.],\n",
            "        [0., 0., 0.,  ..., 0., 0., 0.]])\n"
          ]
        }
      ]
    },
    {
      "cell_type": "code",
      "source": [
        "#btw:\n",
        "train_data.head()"
      ],
      "metadata": {
        "colab": {
          "base_uri": "https://localhost:8080/",
          "height": 206
        },
        "id": "yYCSlVbjt6Ne",
        "outputId": "9dc3d9a3-6419-4b78-97bb-168bc5fdd269"
      },
      "execution_count": 21,
      "outputs": [
        {
          "output_type": "execute_result",
          "data": {
            "text/plain": [
              "                                                text label  data-id  id\n",
              "0  \"The Garden of Allah\" was one of the first fea...   pos        0   0\n",
              "1  Here's how you do it: Believe in God and repen...   neg        1   1\n",
              "2  I thought the whole movie played out beautiful...   pos        2   2\n",
              "3  The best Modesty Blaise movie I have seen so f...   pos        3   3\n",
              "4  Every movie critic and metal head hated this m...   pos        4   4"
            ],
            "text/html": [
              "\n",
              "  <div id=\"df-6fd20d2d-75b6-4368-8aa2-2fe2235c17a2\">\n",
              "    <div class=\"colab-df-container\">\n",
              "      <div>\n",
              "<style scoped>\n",
              "    .dataframe tbody tr th:only-of-type {\n",
              "        vertical-align: middle;\n",
              "    }\n",
              "\n",
              "    .dataframe tbody tr th {\n",
              "        vertical-align: top;\n",
              "    }\n",
              "\n",
              "    .dataframe thead th {\n",
              "        text-align: right;\n",
              "    }\n",
              "</style>\n",
              "<table border=\"1\" class=\"dataframe\">\n",
              "  <thead>\n",
              "    <tr style=\"text-align: right;\">\n",
              "      <th></th>\n",
              "      <th>text</th>\n",
              "      <th>label</th>\n",
              "      <th>data-id</th>\n",
              "      <th>id</th>\n",
              "    </tr>\n",
              "  </thead>\n",
              "  <tbody>\n",
              "    <tr>\n",
              "      <th>0</th>\n",
              "      <td>\"The Garden of Allah\" was one of the first fea...</td>\n",
              "      <td>pos</td>\n",
              "      <td>0</td>\n",
              "      <td>0</td>\n",
              "    </tr>\n",
              "    <tr>\n",
              "      <th>1</th>\n",
              "      <td>Here's how you do it: Believe in God and repen...</td>\n",
              "      <td>neg</td>\n",
              "      <td>1</td>\n",
              "      <td>1</td>\n",
              "    </tr>\n",
              "    <tr>\n",
              "      <th>2</th>\n",
              "      <td>I thought the whole movie played out beautiful...</td>\n",
              "      <td>pos</td>\n",
              "      <td>2</td>\n",
              "      <td>2</td>\n",
              "    </tr>\n",
              "    <tr>\n",
              "      <th>3</th>\n",
              "      <td>The best Modesty Blaise movie I have seen so f...</td>\n",
              "      <td>pos</td>\n",
              "      <td>3</td>\n",
              "      <td>3</td>\n",
              "    </tr>\n",
              "    <tr>\n",
              "      <th>4</th>\n",
              "      <td>Every movie critic and metal head hated this m...</td>\n",
              "      <td>pos</td>\n",
              "      <td>4</td>\n",
              "      <td>4</td>\n",
              "    </tr>\n",
              "  </tbody>\n",
              "</table>\n",
              "</div>\n",
              "      <button class=\"colab-df-convert\" onclick=\"convertToInteractive('df-6fd20d2d-75b6-4368-8aa2-2fe2235c17a2')\"\n",
              "              title=\"Convert this dataframe to an interactive table.\"\n",
              "              style=\"display:none;\">\n",
              "        \n",
              "  <svg xmlns=\"http://www.w3.org/2000/svg\" height=\"24px\"viewBox=\"0 0 24 24\"\n",
              "       width=\"24px\">\n",
              "    <path d=\"M0 0h24v24H0V0z\" fill=\"none\"/>\n",
              "    <path d=\"M18.56 5.44l.94 2.06.94-2.06 2.06-.94-2.06-.94-.94-2.06-.94 2.06-2.06.94zm-11 1L8.5 8.5l.94-2.06 2.06-.94-2.06-.94L8.5 2.5l-.94 2.06-2.06.94zm10 10l.94 2.06.94-2.06 2.06-.94-2.06-.94-.94-2.06-.94 2.06-2.06.94z\"/><path d=\"M17.41 7.96l-1.37-1.37c-.4-.4-.92-.59-1.43-.59-.52 0-1.04.2-1.43.59L10.3 9.45l-7.72 7.72c-.78.78-.78 2.05 0 2.83L4 21.41c.39.39.9.59 1.41.59.51 0 1.02-.2 1.41-.59l7.78-7.78 2.81-2.81c.8-.78.8-2.07 0-2.86zM5.41 20L4 18.59l7.72-7.72 1.47 1.35L5.41 20z\"/>\n",
              "  </svg>\n",
              "      </button>\n",
              "      \n",
              "  <style>\n",
              "    .colab-df-container {\n",
              "      display:flex;\n",
              "      flex-wrap:wrap;\n",
              "      gap: 12px;\n",
              "    }\n",
              "\n",
              "    .colab-df-convert {\n",
              "      background-color: #E8F0FE;\n",
              "      border: none;\n",
              "      border-radius: 50%;\n",
              "      cursor: pointer;\n",
              "      display: none;\n",
              "      fill: #1967D2;\n",
              "      height: 32px;\n",
              "      padding: 0 0 0 0;\n",
              "      width: 32px;\n",
              "    }\n",
              "\n",
              "    .colab-df-convert:hover {\n",
              "      background-color: #E2EBFA;\n",
              "      box-shadow: 0px 1px 2px rgba(60, 64, 67, 0.3), 0px 1px 3px 1px rgba(60, 64, 67, 0.15);\n",
              "      fill: #174EA6;\n",
              "    }\n",
              "\n",
              "    [theme=dark] .colab-df-convert {\n",
              "      background-color: #3B4455;\n",
              "      fill: #D2E3FC;\n",
              "    }\n",
              "\n",
              "    [theme=dark] .colab-df-convert:hover {\n",
              "      background-color: #434B5C;\n",
              "      box-shadow: 0px 1px 3px 1px rgba(0, 0, 0, 0.15);\n",
              "      filter: drop-shadow(0px 1px 2px rgba(0, 0, 0, 0.3));\n",
              "      fill: #FFFFFF;\n",
              "    }\n",
              "  </style>\n",
              "\n",
              "      <script>\n",
              "        const buttonEl =\n",
              "          document.querySelector('#df-6fd20d2d-75b6-4368-8aa2-2fe2235c17a2 button.colab-df-convert');\n",
              "        buttonEl.style.display =\n",
              "          google.colab.kernel.accessAllowed ? 'block' : 'none';\n",
              "\n",
              "        async function convertToInteractive(key) {\n",
              "          const element = document.querySelector('#df-6fd20d2d-75b6-4368-8aa2-2fe2235c17a2');\n",
              "          const dataTable =\n",
              "            await google.colab.kernel.invokeFunction('convertToInteractive',\n",
              "                                                     [key], {});\n",
              "          if (!dataTable) return;\n",
              "\n",
              "          const docLinkHtml = 'Like what you see? Visit the ' +\n",
              "            '<a target=\"_blank\" href=https://colab.research.google.com/notebooks/data_table.ipynb>data table notebook</a>'\n",
              "            + ' to learn more about interactive tables.';\n",
              "          element.innerHTML = '';\n",
              "          dataTable['output_type'] = 'display_data';\n",
              "          await google.colab.output.renderOutput(dataTable, element);\n",
              "          const docLink = document.createElement('div');\n",
              "          docLink.innerHTML = docLinkHtml;\n",
              "          element.appendChild(docLink);\n",
              "        }\n",
              "      </script>\n",
              "    </div>\n",
              "  </div>\n",
              "  "
            ]
          },
          "metadata": {},
          "execution_count": 21
        }
      ]
    },
    {
      "cell_type": "markdown",
      "source": [
        "b) write a data class for the BOW dataset and the labels. Transform the categorical labels to numerical labels."
      ],
      "metadata": {
        "collapsed": false,
        "id": "EQNZ2viacBwW"
      }
    },
    {
      "cell_type": "code",
      "source": [
        "class BOW_data(Dataset):\n",
        "    def __init__(self, data_points: torch.FloatTensor, class_labels: torch.LongTensor):\n",
        "        self.data_points = data_points\n",
        "        self.class_labels = class_labels\n",
        "\n",
        "    def __len__(self):\n",
        "        return self.data_points.shape[0] # Return the length of self.data_points\n",
        "\n",
        "    def __getitem__(self, index):\n",
        "        data = self.data_points[index]\n",
        "        label = self.class_labels[index]\n",
        "        return data, label"
      ],
      "metadata": {
        "id": "hiLyunCcfqeS"
      },
      "execution_count": 4,
      "outputs": []
    },
    {
      "cell_type": "markdown",
      "source": [
        "c) Instantiate the train and test data objects."
      ],
      "metadata": {
        "collapsed": false,
        "id": "Wjjt9D9EcBwX"
      }
    },
    {
      "cell_type": "code",
      "execution_count": 5,
      "outputs": [],
      "source": [
        "# Convert categorical labels to numerical labels\n",
        "label_encoder = LabelEncoder()\n",
        "numerical_labels = label_encoder.fit_transform(combined_data['label'])\n",
        "\n",
        "# Split the term-document matrix into train and test sets\n",
        "train_data_points = term_doc_matrix[:len(train_data)]\n",
        "test_data_points = term_doc_matrix[len(train_data):]\n",
        "\n",
        "# Split the numerical labels into train and test sets\n",
        "train_labels = numerical_labels[:len(train_data)]\n",
        "test_labels = numerical_labels[len(train_data):]\n",
        "\n",
        "# convert them to tensor\n",
        "train_labels = torch.Tensor(train_labels).long()\n",
        "test_labels = torch.Tensor(test_labels).long()\n",
        "\n",
        "# Instantiate the train and test data objects\n",
        "train_dataset = BOW_data(train_data_points, train_labels)\n",
        "test_dataset = BOW_data(test_data_points, test_labels)"
      ],
      "metadata": {
        "ExecuteTime": {
          "end_time": "2023-05-17T08:30:23.438304592Z",
          "start_time": "2023-05-17T08:30:23.433560202Z"
        },
        "id": "QeIOwYaHcBwY"
      }
    },
    {
      "cell_type": "markdown",
      "source": [
        "## Task 2: Design the Network\n",
        "a) Design a neural network with 4 fully connected layers for the task of classifying handwritten digits.\n",
        "- Use the ReLu activation function after the first three layers.\n",
        "- Use one of the weight initializers from the lecture to initialize the network's weights."
      ],
      "metadata": {
        "collapsed": false,
        "id": "HHoi6PU3cBwY"
      }
    },
    {
      "cell_type": "code",
      "source": [
        "class Classifier(nn.Module):\n",
        "    def __init__(self, input_size: int, hidden_1_size: int, hidden_2_size: int, hidden_3_size: int, output_size: int):\n",
        "        super(Classifier, self).__init__()\n",
        "\n",
        "        self.fc1 = nn.Linear(input_size, hidden_1_size)\n",
        "        self.fc2 = nn.Linear(hidden_1_size, hidden_2_size)\n",
        "        self.fc3 = nn.Linear(hidden_2_size, hidden_3_size)\n",
        "        self.fc4 = nn.Linear(hidden_3_size, output_size)\n",
        "\n",
        "        self.relu = nn.ReLU()\n",
        "\n",
        "        # Initialize weights using He/Kaiming initializer (from the lecture)\n",
        "        nn.init.kaiming_uniform_(self.fc1.weight, nonlinearity='relu')\n",
        "        nn.init.kaiming_uniform_(self.fc2.weight, nonlinearity='relu')\n",
        "        nn.init.kaiming_uniform_(self.fc3.weight, nonlinearity='relu')\n",
        "        nn.init.kaiming_uniform_(self.fc4.weight, nonlinearity='relu')\n",
        "\n",
        "    def forward(self, x):\n",
        "        x = self.relu(self.fc1(x))\n",
        "        x = self.relu(self.fc2(x))\n",
        "        x = self.relu(self.fc3(x))\n",
        "        x = self.fc4(x)\n",
        "        return x"
      ],
      "metadata": {
        "id": "KEzkISSKhMUN"
      },
      "execution_count": 6,
      "outputs": []
    },
    {
      "cell_type": "markdown",
      "source": [
        "b) write a function to train the model on batches for a given number of epochs."
      ],
      "metadata": {
        "collapsed": false,
        "id": "88GJabobcBwa"
      }
    },
    {
      "cell_type": "code",
      "execution_count": 7,
      "outputs": [],
      "source": [
        "import torch.optim as optim\n",
        "\n",
        "def train(clf, train_data, batch_size, epochs, learning_rate=0.0001):\n",
        "    criterion = nn.CrossEntropyLoss()\n",
        "    optimizer = optim.Adam(clf.parameters(), lr=learning_rate)\n",
        "\n",
        "    num_batches = len(train_data) // batch_size\n",
        "\n",
        "    for epoch in range(epochs):\n",
        "        running_loss = 0.0\n",
        "\n",
        "        for i in range(num_batches):\n",
        "            inputs, labels = train_data[i * batch_size: (i + 1) * batch_size]\n",
        "\n",
        "            optimizer.zero_grad()\n",
        "\n",
        "            outputs = clf(inputs)\n",
        "            loss = criterion(outputs, labels)\n",
        "            loss.backward()\n",
        "            optimizer.step()\n",
        "\n",
        "            running_loss += loss.item()\n",
        "\n",
        "        print(f\"Epoch {epoch+1}/{epochs} | Loss: {running_loss / num_batches:.4f}\")\n",
        "\n",
        "    print(\"Training complete.\")"
      ],
      "metadata": {
        "ExecuteTime": {
          "end_time": "2023-05-17T08:37:17.270946396Z",
          "start_time": "2023-05-17T08:37:17.247840319Z"
        },
        "id": "9OE0ijlrcBwb"
      }
    },
    {
      "cell_type": "markdown",
      "source": [
        "c) Instantiate the neural network classifier.\n",
        "- Given the term-document-matrix, what is your input size?\n",
        "- For the later tasks, try different hidden layer sizes and compare the results."
      ],
      "metadata": {
        "collapsed": false,
        "id": "EP8K2-PRcBwb"
      }
    },
    {
      "cell_type": "markdown",
      "source": [
        "Using two output neurons (`output_size = 2`) instead of one in sentiment classification offers the advantage of capturing both positive and negative sentiments separately. This allows for a more nuanced understanding of the sentiment expressed in the text, enabling the model to provide more detailed and accurate predictions."
      ],
      "metadata": {
        "id": "0kppEcy48Y_A"
      }
    },
    {
      "cell_type": "code",
      "execution_count": 16,
      "outputs": [],
      "source": [
        "input_size = term_doc_matrix.shape[1]\n",
        "output_size = 2 # num of sentiment classes, i.e. good / bad | one could also work with 1 instead\n",
        "#print(input_size)\n",
        "\n",
        "#hidden_1_size = 8\n",
        "#hidden_2_size = 4\n",
        "#hidden_3_size = 2\n",
        "hidden_sizes_init = [8,4,2]\n",
        "\n",
        "# Instantiate the neural network classifier\n",
        "#classifier = Classifier(input_size, hidden_1_size, hidden_2_size, hidden_3_size, output_size)\n",
        "classifier = Classifier(input_size, hidden_sizes_init[0], hidden_sizes_init[1], hidden_sizes_init[2], output_size)"
      ],
      "metadata": {
        "ExecuteTime": {
          "end_time": "2023-05-17T08:37:18.191421720Z",
          "start_time": "2023-05-17T08:37:18.186973895Z"
        },
        "id": "ERwXTUC4cBwc"
      }
    },
    {
      "cell_type": "markdown",
      "source": [
        "d) Train the model on a batch size of 8 and 3 epochs.\n",
        "If you run out of memory, further reduce the batch size and the hidden layers' sizes."
      ],
      "metadata": {
        "collapsed": false,
        "id": "S7Zmr1eocBwc"
      }
    },
    {
      "cell_type": "code",
      "source": [
        "batch_size = 8\n",
        "epochs = 3\n",
        "\n",
        "# Train the model\n",
        "train(classifier, train_dataset, batch_size, epochs)"
      ],
      "metadata": {
        "colab": {
          "base_uri": "https://localhost:8080/"
        },
        "id": "QoNwXs7Hi7m9",
        "outputId": "9f171a23-bd94-497f-c2b1-13059e945582"
      },
      "execution_count": 17,
      "outputs": [
        {
          "output_type": "stream",
          "name": "stdout",
          "text": [
            "Epoch 1/3 | Loss: 0.8023\n",
            "Epoch 2/3 | Loss: 0.7004\n",
            "Epoch 3/3 | Loss: 0.5302\n",
            "Training complete.\n"
          ]
        }
      ]
    },
    {
      "cell_type": "markdown",
      "source": [
        "## Task 3: Evaluate the Neural Network\n",
        "\n",
        "a) write a function that returns the accuracy of your trained model."
      ],
      "metadata": {
        "collapsed": false,
        "id": "HK3czIuIcBwc"
      }
    },
    {
      "cell_type": "code",
      "execution_count": 18,
      "outputs": [],
      "source": [
        "from sklearn.metrics import accuracy_score\n",
        "\n",
        "def evaluate(clf, test_data):\n",
        "    # Set the classifier to evaluation mode\n",
        "    clf.eval()\n",
        "\n",
        "    # Create a data loader for the test data\n",
        "    test_loader = DataLoader(test_data, batch_size=len(test_data))\n",
        "\n",
        "    # Iterate over the test data batches\n",
        "    for data, labels in test_loader:\n",
        "        # Forward pass through the classifier\n",
        "        outputs = clf(data)\n",
        "\n",
        "        # Convert the predicted labels to numpy array\n",
        "        predicted_labels = outputs.argmax(dim=1).numpy()\n",
        "\n",
        "        # Convert the true labels to numpy array\n",
        "        true_labels = labels.numpy()\n",
        "\n",
        "        # Compute the accuracy using scikit-learn's accuracy_score function\n",
        "        accuracy = accuracy_score(true_labels, predicted_labels)\n",
        "\n",
        "        # Return the accuracy\n",
        "        return accuracy"
      ],
      "metadata": {
        "ExecuteTime": {
          "end_time": "2023-05-17T08:37:20.217532406Z",
          "start_time": "2023-05-17T08:37:20.214392549Z"
        },
        "id": "-C9vR0c6cBwd"
      }
    },
    {
      "cell_type": "markdown",
      "source": [
        "b) Evaluate the model.\n",
        "- Test at least three different sets parameters for the neural network (hidden sizes)\n",
        "- Use higher values for the number of training epochs. What changes do you expect?"
      ],
      "metadata": {
        "collapsed": false,
        "id": "mSb5wb5acBwd"
      }
    },
    {
      "cell_type": "code",
      "source": [
        "# FIRST EVALUATION\n",
        "\n",
        "# Evaluate the model on the test data\n",
        "test_accuracy = evaluate(classifier, test_dataset)\n",
        "\n",
        "print(\"Test Accuracy (hidden layers sizes are [8,4,2]):\", test_accuracy)"
      ],
      "metadata": {
        "colab": {
          "base_uri": "https://localhost:8080/"
        },
        "collapsed": true,
        "id": "cFPZSG8crBW5",
        "outputId": "e9cfaffb-3daa-43e8-885a-4f145af45a15"
      },
      "execution_count": 19,
      "outputs": [
        {
          "output_type": "stream",
          "name": "stdout",
          "text": [
            "Test Accuracy (hidden layers sizes are [8,4,2]): 0.6668\n"
          ]
        }
      ]
    },
    {
      "cell_type": "markdown",
      "source": [
        "\n",
        "\n",
        "---\n",
        "\n"
      ],
      "metadata": {
        "id": "Gg7NMHhkBTON"
      }
    },
    {
      "cell_type": "markdown",
      "source": [
        "Let's try to evaluate more systematically with `hidden_sizes = [(128, 64, 32),(64, 32, 16),(16, 8, 4)]`and `epochs = [3, 5, 7] `.\n",
        "We'd expect that with more training epochs tend to increase the accuracy unless one has overfitted the model on the training data. Also noteworthy are a longer training time and associated diminishing returns. So one should try striking a balance with epoch numbers."
      ],
      "metadata": {
        "id": "kvJlfanltue6"
      }
    },
    {
      "cell_type": "code",
      "source": [
        "from sklearn.metrics import accuracy_score\n",
        "\n",
        "hidden_sizes = [(128, 64, 32),(64, 32, 16),(16, 8, 4)]\n",
        "epochs = [3, 5, 7]\n",
        "\n",
        "best_accuracy = 0\n",
        "best_params = None\n",
        "best_epoch = 0\n",
        "\n",
        "for hidden_size in hidden_sizes:\n",
        "    for num_epochs in epochs:\n",
        "        classifier = Classifier(input_size, hidden_size[0], hidden_size[1], hidden_size[2], output_size)\n",
        "\n",
        "        # Train the classifier on the training dataset for the specified number of epochs\n",
        "        train(classifier, train_dataset, batch_size, num_epochs)\n",
        "\n",
        "        # Evaluate the classifier on the test dataset\n",
        "        accuracy = evaluate(classifier, test_dataset)\n",
        "\n",
        "        # Check if this parameter combination and epoch achieves the best accuracy so far\n",
        "        if accuracy > best_accuracy:\n",
        "            best_accuracy = accuracy\n",
        "            best_params = hidden_size\n",
        "            best_epoch = num_epochs\n",
        "\n",
        "# Print the best parameter combination, epoch, and the corresponding accuracy\n",
        "print(\"Best Parameters:\", best_params)\n",
        "print(\"Best Epoch:\", best_epoch)\n",
        "print(\"Accuracy:\", best_accuracy)"
      ],
      "metadata": {
        "id": "rNjRhYkDAm8i",
        "outputId": "2139c12f-64e5-453f-bf8a-e7b413192e48",
        "colab": {
          "base_uri": "https://localhost:8080/"
        }
      },
      "execution_count": 20,
      "outputs": [
        {
          "output_type": "stream",
          "name": "stdout",
          "text": [
            "Epoch 1/3 | Loss: 0.4125\n",
            "Epoch 2/3 | Loss: 0.0938\n",
            "Epoch 3/3 | Loss: 0.0198\n",
            "Training complete.\n",
            "Epoch 1/5 | Loss: 0.4281\n",
            "Epoch 2/5 | Loss: 0.1085\n",
            "Epoch 3/5 | Loss: 0.0231\n",
            "Epoch 4/5 | Loss: 0.0040\n",
            "Epoch 5/5 | Loss: 0.0010\n",
            "Training complete.\n",
            "Epoch 1/7 | Loss: 0.4253\n",
            "Epoch 2/7 | Loss: 0.1080\n",
            "Epoch 3/7 | Loss: 0.0237\n",
            "Epoch 4/7 | Loss: 0.0050\n",
            "Epoch 5/7 | Loss: 0.0014\n",
            "Epoch 6/7 | Loss: 0.0006\n",
            "Epoch 7/7 | Loss: 0.0003\n",
            "Training complete.\n",
            "Epoch 1/3 | Loss: 0.4577\n",
            "Epoch 2/3 | Loss: 0.1369\n",
            "Epoch 3/3 | Loss: 0.0387\n",
            "Training complete.\n",
            "Epoch 1/5 | Loss: 0.4503\n",
            "Epoch 2/5 | Loss: 0.1358\n",
            "Epoch 3/5 | Loss: 0.0373\n",
            "Epoch 4/5 | Loss: 0.0106\n",
            "Epoch 5/5 | Loss: 0.0036\n",
            "Training complete.\n",
            "Epoch 1/7 | Loss: 0.4662\n",
            "Epoch 2/7 | Loss: 0.1461\n",
            "Epoch 3/7 | Loss: 0.0454\n",
            "Epoch 4/7 | Loss: 0.0168\n",
            "Epoch 5/7 | Loss: 0.0064\n",
            "Epoch 6/7 | Loss: 0.0021\n",
            "Epoch 7/7 | Loss: 0.0009\n",
            "Training complete.\n",
            "Epoch 1/3 | Loss: 0.4667\n",
            "Epoch 2/3 | Loss: 0.1846\n",
            "Epoch 3/3 | Loss: 0.0790\n",
            "Training complete.\n",
            "Epoch 1/5 | Loss: 0.5677\n",
            "Epoch 2/5 | Loss: 0.2878\n",
            "Epoch 3/5 | Loss: 0.1369\n",
            "Epoch 4/5 | Loss: 0.0654\n",
            "Epoch 5/5 | Loss: 0.0353\n",
            "Training complete.\n",
            "Epoch 1/7 | Loss: 0.5933\n",
            "Epoch 2/7 | Loss: 0.3450\n",
            "Epoch 3/7 | Loss: 0.1231\n",
            "Epoch 4/7 | Loss: 0.0542\n",
            "Epoch 5/7 | Loss: 0.0258\n",
            "Epoch 6/7 | Loss: 0.0119\n",
            "Epoch 7/7 | Loss: 0.0059\n",
            "Training complete.\n",
            "Best Parameters: (16, 8, 4)\n",
            "Best Epoch: 3\n",
            "Accuracy: 0.8704\n"
          ]
        }
      ]
    },
    {
      "cell_type": "markdown",
      "source": [
        "So the evaluation actually confirms that more Epochs have deminishing returns. Our best results were with a smaller neural network and only three epochs."
      ],
      "metadata": {
        "id": "U6S7th-WTcuE"
      }
    },
    {
      "cell_type": "code",
      "source": [],
      "metadata": {
        "id": "cwfE2iY_EN5c"
      },
      "execution_count": null,
      "outputs": []
    }
  ],
  "metadata": {
    "kernelspec": {
      "display_name": "Python 3",
      "language": "python",
      "name": "python3"
    },
    "language_info": {
      "codemirror_mode": {
        "name": "ipython",
        "version": 2
      },
      "file_extension": ".py",
      "mimetype": "text/x-python",
      "name": "python",
      "nbconvert_exporter": "python",
      "pygments_lexer": "ipython2",
      "version": "2.7.6"
    },
    "colab": {
      "provenance": [],
      "include_colab_link": true
    }
  },
  "nbformat": 4,
  "nbformat_minor": 0
}