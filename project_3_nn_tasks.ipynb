{
 "cells": [
  {
   "cell_type": "markdown",
   "source": [
    "# Project 1: Text Classification using BOW and Logistic Regression\n",
    "\n",
    "For this project, imagine you are a group of data scientists who want to train a neural network to predict the sentiment of a movie review. You are given the set of IMDb reviews you used for Project 1, split to train (*train.jsonl*) and test data (*test.jsonl*).\n",
    "\n",
    "\n",
    "For this project, you might need the following python packages:\n",
    "- sklearn\n",
    "- pandas\n",
    "- PyTorch\n",
    "\n",
    "For PyTorch installation, please refer to [PyTorch](https://pytorch.org/get-started/locally/).\n",
    "\n",
    "### Enter names and mat. numbers:\n",
    "- Group Name\n",
    "\n",
    "- name 1, mat 1\n",
    "- name 2, mat 2\n",
    "- name 3, mat 3\n",
    "- name 4, mat 4"
   ],
   "metadata": {
    "collapsed": false
   }
  },
  {
   "cell_type": "code",
   "execution_count": 14,
   "outputs": [
    {
     "name": "stdout",
     "output_type": "stream",
     "text": [
      "cuda\n"
     ]
    }
   ],
   "source": [
    "# all the imports\n",
    "import torch\n",
    "import torch.nn as nn\n",
    "from torch.utils.data import DataLoader, Dataset\n",
    "\n",
    "device = torch.device(\"cuda\") if torch.cuda.is_available() else torch.device(\"cpu\")\n",
    "print(device)"
   ],
   "metadata": {
    "collapsed": false,
    "ExecuteTime": {
     "end_time": "2023-05-17T08:30:21.590129931Z",
     "start_time": "2023-05-17T08:30:21.549597338Z"
    }
   }
  },
  {
   "cell_type": "markdown",
   "source": [
    "## Task 1: Numerical Representation of Texts\n",
    "As presented in the lecture, we want to represent texts by a \"bag of words\". Therefore, the text is represented by the bag (or multiset) of its words.\n",
    "\n",
    "a) Proceed as follows:\n",
    "1. remove all stop words\n",
    "2. remove punctuations\n",
    "3. lower words\n",
    "2. create the term-document matrix\n",
    "\n",
    "Hint: You may use your code from Project 1 here."
   ],
   "metadata": {
    "collapsed": false
   }
  },
  {
   "cell_type": "code",
   "execution_count": 15,
   "outputs": [],
   "source": [
    "# your code here"
   ],
   "metadata": {
    "collapsed": false,
    "ExecuteTime": {
     "end_time": "2023-05-17T08:30:22.478845059Z",
     "start_time": "2023-05-17T08:30:22.475301557Z"
    }
   }
  },
  {
   "cell_type": "markdown",
   "source": [
    "b) write a data class for the BOW dataset and the labels. Transform the categorical labels to numerical labels."
   ],
   "metadata": {
    "collapsed": false
   }
  },
  {
   "cell_type": "code",
   "execution_count": 16,
   "outputs": [],
   "source": [
    "class BOW_data(Dataset):\n",
    "    # write your code for the dataset implementation here\n",
    "    def __init__(self, data_points: torch.FloatTensor, class_labels: torch.LongTensor):\n",
    "        pass\n",
    "    def __len__(self):\n",
    "        pass\n",
    "\n",
    "    def __getitem__(self, index):\n",
    "        pass"
   ],
   "metadata": {
    "collapsed": false,
    "ExecuteTime": {
     "end_time": "2023-05-17T08:30:22.976756698Z",
     "start_time": "2023-05-17T08:30:22.970303491Z"
    }
   }
  },
  {
   "cell_type": "markdown",
   "source": [
    "c) Instantiate the train and test data objects."
   ],
   "metadata": {
    "collapsed": false
   }
  },
  {
   "cell_type": "code",
   "execution_count": 17,
   "outputs": [],
   "source": [
    "# your code here"
   ],
   "metadata": {
    "collapsed": false,
    "ExecuteTime": {
     "end_time": "2023-05-17T08:30:23.438304592Z",
     "start_time": "2023-05-17T08:30:23.433560202Z"
    }
   }
  },
  {
   "cell_type": "markdown",
   "source": [
    "## Task 2: Design the Network\n",
    "a) Design a neural network with 4 fully connected layers for the task of classifying handwritten digits.\n",
    "- Use the ReLu activation function after the first three layers.\n",
    "- Use one of the weight initializers from the lecture to initialize the network's weights."
   ],
   "metadata": {
    "collapsed": false
   }
  },
  {
   "cell_type": "code",
   "execution_count": 24,
   "outputs": [],
   "source": [
    "\n",
    "class Classifier(nn.Module):\n",
    "    # Write your code for the architecture here...\n",
    "    def __init__(self, input_size: int, hidden_1_size: int, hidden_2_size: int, hidden_3_size: int, output_size: int):\n",
    "        pass\n",
    "\n",
    "    def forward(self, x):\n",
    "        pass"
   ],
   "metadata": {
    "collapsed": false,
    "ExecuteTime": {
     "end_time": "2023-05-17T08:37:15.961858721Z",
     "start_time": "2023-05-17T08:37:15.916827446Z"
    }
   }
  },
  {
   "cell_type": "markdown",
   "source": [
    "b) write a function to train the model on batches for a given number of epochs."
   ],
   "metadata": {
    "collapsed": false
   }
  },
  {
   "cell_type": "code",
   "execution_count": 25,
   "outputs": [],
   "source": [
    "def train(clf, train_data, batch_size, epochs, learning_rate=0.0001):\n",
    "    pass"
   ],
   "metadata": {
    "collapsed": false,
    "ExecuteTime": {
     "end_time": "2023-05-17T08:37:17.270946396Z",
     "start_time": "2023-05-17T08:37:17.247840319Z"
    }
   }
  },
  {
   "cell_type": "markdown",
   "source": [
    "c) Instantiate the neural network classifier.\n",
    "- Given the term-document-matrix, what is your input size?\n",
    "- For the later tasks, try different hidden layer sizes and compare the results."
   ],
   "metadata": {
    "collapsed": false
   }
  },
  {
   "cell_type": "code",
   "execution_count": 26,
   "outputs": [],
   "source": [
    "# your code here"
   ],
   "metadata": {
    "collapsed": false,
    "ExecuteTime": {
     "end_time": "2023-05-17T08:37:18.191421720Z",
     "start_time": "2023-05-17T08:37:18.186973895Z"
    }
   }
  },
  {
   "cell_type": "markdown",
   "source": [
    "d) Train the model on a batch size of 8 and 3 epochs.\n",
    "If you run out of memory, further reduce the batch size and the hidden layers' sizes."
   ],
   "metadata": {
    "collapsed": false
   }
  },
  {
   "cell_type": "code",
   "execution_count": 27,
   "outputs": [],
   "source": [
    "# your code here"
   ],
   "metadata": {
    "collapsed": false,
    "ExecuteTime": {
     "end_time": "2023-05-17T08:37:19.244568371Z",
     "start_time": "2023-05-17T08:37:19.241727125Z"
    }
   }
  },
  {
   "cell_type": "markdown",
   "source": [
    "## Task 3: Evaluate the Neural Network\n",
    "\n",
    "a) write a function that returns the accuracy of your trained model."
   ],
   "metadata": {
    "collapsed": false
   }
  },
  {
   "cell_type": "code",
   "execution_count": 28,
   "outputs": [],
   "source": [
    "def evaluate(clf, test_data):\n",
    "    # your code here\n",
    "    pass"
   ],
   "metadata": {
    "collapsed": false,
    "ExecuteTime": {
     "end_time": "2023-05-17T08:37:20.217532406Z",
     "start_time": "2023-05-17T08:37:20.214392549Z"
    }
   }
  },
  {
   "cell_type": "markdown",
   "source": [
    "b) Evaluate the model.\n",
    "- Test at least three different sets parameters for the neural network (hidden sizes)\n",
    "- Use higher values for the number of training epochs. What changes do you expect?"
   ],
   "metadata": {
    "collapsed": false
   }
  },
  {
   "cell_type": "code",
   "execution_count": 23,
   "outputs": [],
   "source": [
    "# your code here"
   ],
   "metadata": {
    "collapsed": false,
    "ExecuteTime": {
     "end_time": "2023-05-17T08:30:26.881140390Z",
     "start_time": "2023-05-17T08:30:26.869501201Z"
    }
   }
  }
 ],
 "metadata": {
  "kernelspec": {
   "display_name": "Python 3",
   "language": "python",
   "name": "python3"
  },
  "language_info": {
   "codemirror_mode": {
    "name": "ipython",
    "version": 2
   },
   "file_extension": ".py",
   "mimetype": "text/x-python",
   "name": "python",
   "nbconvert_exporter": "python",
   "pygments_lexer": "ipython2",
   "version": "2.7.6"
  }
 },
 "nbformat": 4,
 "nbformat_minor": 0
}
