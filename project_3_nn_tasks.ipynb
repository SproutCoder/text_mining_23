{
  "cells": [
    {
      "cell_type": "markdown",
      "metadata": {
        "id": "view-in-github",
        "colab_type": "text"
      },
      "source": [
        "<a href=\"https://colab.research.google.com/github/SproutCoder/text_mining_23/blob/main/project_3_nn_tasks.ipynb\" target=\"_parent\"><img src=\"https://colab.research.google.com/assets/colab-badge.svg\" alt=\"Open In Colab\"/></a>"
      ]
    },
    {
      "cell_type": "markdown",
      "source": [
        "# Project 3: Text Classification using BOW and Neuronal Networks\n",
        "\n",
        "For this project, imagine you are a group of data scientists who want to train a neural network to predict the sentiment of a movie review. You are given the set of IMDb reviews you used for Project 1, split to train (*train.jsonl*) and test data (*test.jsonl*).\n",
        "\n",
        "\n",
        "For this project, you might need the following python packages:\n",
        "- sklearn\n",
        "- pandas\n",
        "- PyTorch\n",
        "\n",
        "For PyTorch installation, please refer to [PyTorch](https://pytorch.org/get-started/locally/).\n",
        "\n",
        "### Enter names and mat. numbers:\n",
        "- Group Name PiKa\n",
        "\n",
        "- Sebastian Pirozhkov, 421892\n",
        "- Christopher Kaschny, 447930\n",
        "- name 3, mat 3\n",
        "- name 4, mat 4"
      ],
      "metadata": {
        "collapsed": false,
        "id": "RpiigCOlcBwM"
      }
    },
    {
      "cell_type": "code",
      "execution_count": 11,
      "outputs": [
        {
          "output_type": "stream",
          "name": "stdout",
          "text": [
            "cpu\n"
          ]
        }
      ],
      "source": [
        "import torch\n",
        "import torch.nn as nn\n",
        "from torch.utils.data import DataLoader, Dataset\n",
        "import nltk\n",
        "from nltk.corpus import stopwords\n",
        "from sklearn.feature_extraction.text import CountVectorizer\n",
        "import pandas as pd\n",
        "import string\n",
        "from sklearn.preprocessing import LabelEncoder\n",
        "\n",
        "device = torch.device(\"cuda\") if torch.cuda.is_available() else torch.device(\"cpu\")\n",
        "print(device)"
      ],
      "metadata": {
        "ExecuteTime": {
          "end_time": "2023-05-17T08:30:21.590129931Z",
          "start_time": "2023-05-17T08:30:21.549597338Z"
        },
        "colab": {
          "base_uri": "https://localhost:8080/"
        },
        "id": "yA-PljidcBwQ",
        "outputId": "cfb4b2d2-4059-44d8-a569-3abc82ad0af4"
      }
    },
    {
      "cell_type": "markdown",
      "source": [
        "## Task 1: Numerical Representation of Texts\n",
        "As presented in the lecture, we want to represent texts by a \"bag of words\". Therefore, the text is represented by the bag (or multiset) of its words.\n",
        "\n",
        "a) Proceed as follows:\n",
        "1. remove all stop words\n",
        "2. remove punctuations\n",
        "3. lower words\n",
        "2. create the term-document matrix\n",
        "\n",
        "Hint: You may use your code from Project 1 here."
      ],
      "metadata": {
        "collapsed": false,
        "id": "2YHvXywEcBwU"
      }
    },
    {
      "cell_type": "code",
      "execution_count": 12,
      "outputs": [
        {
          "output_type": "stream",
          "name": "stderr",
          "text": [
            "[nltk_data] Downloading package stopwords to /root/nltk_data...\n",
            "[nltk_data]   Package stopwords is already up-to-date!\n"
          ]
        }
      ],
      "source": [
        "# Function to preprocess text\n",
        "\n",
        "nltk.download('stopwords')\n",
        "\n",
        "def preprocess_text(text):\n",
        "    # Remove punctuation using NLTK\n",
        "    text = \"\".join([word for word in text if word not in string.punctuation])\n",
        "    # Convert words to lowercase\n",
        "    text = text.lower()\n",
        "    # Remove stopwords using NLTK\n",
        "    stop_words = set(stopwords.words('english'))\n",
        "    text = \" \".join([word for word in text.split() if word not in stop_words])\n",
        "    return text"
      ],
      "metadata": {
        "ExecuteTime": {
          "end_time": "2023-05-17T08:30:22.478845059Z",
          "start_time": "2023-05-17T08:30:22.475301557Z"
        },
        "colab": {
          "base_uri": "https://localhost:8080/"
        },
        "id": "kEOTZl6jcBwV",
        "outputId": "928754e8-0eec-4294-e9e5-493fb37e86b5"
      }
    },
    {
      "cell_type": "code",
      "source": [
        "# CREATE TERM-DOC MATRIX\n",
        "\n",
        "# Load the train and test data using pandas\n",
        "train_data = pd.read_json(\"train.jsonl\", lines=True)\n",
        "test_data = pd.read_json(\"test.jsonl\", lines=True)\n",
        "\n",
        "# Combine train and test data for preprocessing\n",
        "combined_data = pd.concat([train_data, test_data], ignore_index=True)\n",
        "\n",
        "# Apply text preprocessing\n",
        "combined_data['processed_text'] = combined_data['text'].apply(preprocess_text)\n",
        "\n",
        "vectorizer = CountVectorizer()\n",
        "term_doc_matrix = vectorizer.fit_transform(combined_data['processed_text'])\n",
        "term_doc_matrix = torch.Tensor(term_doc_matrix.toarray())\n",
        "\n",
        "print(term_doc_matrix)"
      ],
      "metadata": {
        "colab": {
          "base_uri": "https://localhost:8080/"
        },
        "id": "MHlE_SMae5I5",
        "outputId": "517f35cb-67dd-4ce0-9356-f9d0626c7fa6"
      },
      "execution_count": 47,
      "outputs": [
        {
          "output_type": "stream",
          "name": "stdout",
          "text": [
            "tensor([[0., 0., 0.,  ..., 0., 0., 0.],\n",
            "        [0., 0., 0.,  ..., 0., 0., 0.],\n",
            "        [0., 0., 0.,  ..., 0., 0., 0.],\n",
            "        ...,\n",
            "        [0., 0., 0.,  ..., 0., 0., 0.],\n",
            "        [0., 0., 0.,  ..., 0., 0., 0.],\n",
            "        [0., 0., 0.,  ..., 0., 0., 0.]])\n"
          ]
        }
      ]
    },
    {
      "cell_type": "markdown",
      "source": [
        "b) write a data class for the BOW dataset and the labels. Transform the categorical labels to numerical labels."
      ],
      "metadata": {
        "collapsed": false,
        "id": "EQNZ2viacBwW"
      }
    },
    {
      "cell_type": "code",
      "source": [
        "class BOW_data(Dataset):\n",
        "    def __init__(self, data_points: torch.FloatTensor, class_labels: torch.LongTensor):\n",
        "        self.data_points = data_points\n",
        "        self.class_labels = class_labels\n",
        "\n",
        "    def __len__(self):\n",
        "        return self.data_points.shape[0] # Return the length of self.data_points\n",
        "\n",
        "    def __getitem__(self, index):\n",
        "        data = self.data_points[index]\n",
        "        label = self.class_labels[index]\n",
        "        return data, label"
      ],
      "metadata": {
        "id": "hiLyunCcfqeS"
      },
      "execution_count": 15,
      "outputs": []
    },
    {
      "cell_type": "markdown",
      "source": [
        "c) Instantiate the train and test data objects."
      ],
      "metadata": {
        "collapsed": false,
        "id": "Wjjt9D9EcBwX"
      }
    },
    {
      "cell_type": "code",
      "execution_count": 29,
      "outputs": [],
      "source": [
        "# Convert categorical labels to numerical labels\n",
        "label_encoder = LabelEncoder()\n",
        "numerical_labels = label_encoder.fit_transform(combined_data['label'])\n",
        "\n",
        "# Split the term-document matrix into train and test sets\n",
        "train_data_points = term_doc_matrix[:len(train_data)]\n",
        "test_data_points = term_doc_matrix[len(train_data):]\n",
        "\n",
        "# Split the numerical labels into train and test sets\n",
        "train_labels = numerical_labels[:len(train_data)]\n",
        "test_labels = numerical_labels[len(train_data):]\n",
        "\n",
        "# convert them to tensor\n",
        "train_labels = torch.Tensor(train_labels).long()\n",
        "test_labels = torch.Tensor(test_labels).long()\n",
        "\n",
        "# Instantiate the train and test data objects\n",
        "train_dataset = BOW_data(train_data_points, train_labels)\n",
        "test_dataset = BOW_data(test_data_points, test_labels)"
      ],
      "metadata": {
        "ExecuteTime": {
          "end_time": "2023-05-17T08:30:23.438304592Z",
          "start_time": "2023-05-17T08:30:23.433560202Z"
        },
        "id": "QeIOwYaHcBwY"
      }
    },
    {
      "cell_type": "markdown",
      "source": [
        "## Task 2: Design the Network\n",
        "a) Design a neural network with 4 fully connected layers for the task of classifying handwritten digits.\n",
        "- Use the ReLu activation function after the first three layers.\n",
        "- Use one of the weight initializers from the lecture to initialize the network's weights."
      ],
      "metadata": {
        "collapsed": false,
        "id": "HHoi6PU3cBwY"
      }
    },
    {
      "cell_type": "code",
      "source": [
        "class Classifier(nn.Module):\n",
        "    def __init__(self, input_size: int, hidden_1_size: int, hidden_2_size: int, hidden_3_size: int, output_size: int):\n",
        "        super(Classifier, self).__init__()\n",
        "\n",
        "        self.fc1 = nn.Linear(input_size, hidden_1_size)\n",
        "        self.fc2 = nn.Linear(hidden_1_size, hidden_2_size)\n",
        "        self.fc3 = nn.Linear(hidden_2_size, hidden_3_size)\n",
        "        self.fc4 = nn.Linear(hidden_3_size, output_size)\n",
        "\n",
        "        self.relu = nn.ReLU()\n",
        "\n",
        "        # Initialize weights using He/Kaiming initializer (from the lecture)\n",
        "        nn.init.kaiming_uniform_(self.fc1.weight, nonlinearity='relu')\n",
        "        nn.init.kaiming_uniform_(self.fc2.weight, nonlinearity='relu')\n",
        "        nn.init.kaiming_uniform_(self.fc3.weight, nonlinearity='relu')\n",
        "        nn.init.kaiming_uniform_(self.fc4.weight, nonlinearity='relu')\n",
        "\n",
        "    def forward(self, x):\n",
        "        x = self.relu(self.fc1(x))\n",
        "        x = self.relu(self.fc2(x))\n",
        "        x = self.relu(self.fc3(x))\n",
        "        x = self.fc4(x)\n",
        "        return x"
      ],
      "metadata": {
        "id": "KEzkISSKhMUN"
      },
      "execution_count": 52,
      "outputs": []
    },
    {
      "cell_type": "markdown",
      "source": [
        "b) write a function to train the model on batches for a given number of epochs."
      ],
      "metadata": {
        "collapsed": false,
        "id": "88GJabobcBwa"
      }
    },
    {
      "cell_type": "code",
      "execution_count": 31,
      "outputs": [],
      "source": [
        "import torch.optim as optim\n",
        "\n",
        "def train(clf, train_data, batch_size, epochs, learning_rate=0.0001):\n",
        "    criterion = nn.CrossEntropyLoss()\n",
        "    optimizer = optim.Adam(clf.parameters(), lr=learning_rate)\n",
        "\n",
        "    num_batches = len(train_data) // batch_size\n",
        "\n",
        "    for epoch in range(epochs):\n",
        "        running_loss = 0.0\n",
        "\n",
        "        for i in range(num_batches):\n",
        "            inputs, labels = train_data[i * batch_size: (i + 1) * batch_size]\n",
        "\n",
        "            optimizer.zero_grad()\n",
        "\n",
        "            outputs = clf(inputs)\n",
        "            loss = criterion(outputs, labels)\n",
        "            loss.backward()\n",
        "            optimizer.step()\n",
        "\n",
        "            running_loss += loss.item()\n",
        "\n",
        "        print(f\"Epoch {epoch+1}/{epochs} | Loss: {running_loss / num_batches:.4f}\")\n",
        "\n",
        "    print(\"Training complete.\")"
      ],
      "metadata": {
        "ExecuteTime": {
          "end_time": "2023-05-17T08:37:17.270946396Z",
          "start_time": "2023-05-17T08:37:17.247840319Z"
        },
        "id": "9OE0ijlrcBwb"
      }
    },
    {
      "cell_type": "markdown",
      "source": [
        "c) Instantiate the neural network classifier.\n",
        "- Given the term-document-matrix, what is your input size?\n",
        "- For the later tasks, try different hidden layer sizes and compare the results."
      ],
      "metadata": {
        "collapsed": false,
        "id": "EP8K2-PRcBwb"
      }
    },
    {
      "cell_type": "markdown",
      "source": [
        "Using two output neurons (`output_size = 2`) instead of one in sentiment classification offers the advantage of capturing both positive and negative sentiments separately. This allows for a more nuanced understanding of the sentiment expressed in the text, enabling the model to provide more detailed and accurate predictions."
      ],
      "metadata": {
        "id": "0kppEcy48Y_A"
      }
    },
    {
      "cell_type": "code",
      "execution_count": 50,
      "outputs": [],
      "source": [
        "input_size = term_doc_matrix.shape[1]\n",
        "output_size = 2 # num of sentiment classes, i.e. good / bad | one could also work with 1 instead\n",
        "#print(input_size)\n",
        "\n",
        "#hidden_1_size = 8\n",
        "#hidden_2_size = 4\n",
        "#hidden_3_size = 2\n",
        "hidden_sizes_init = [8,4,2]\n",
        "\n",
        "# Instantiate the neural network classifier\n",
        "#classifier = Classifier(input_size, hidden_1_size, hidden_2_size, hidden_3_size, output_size)\n",
        "classifier = Classifier(input_size, hidden_sizes_init[0], hidden_sizes_init[1], hidden_sizes_init[2], output_size)"
      ],
      "metadata": {
        "ExecuteTime": {
          "end_time": "2023-05-17T08:37:18.191421720Z",
          "start_time": "2023-05-17T08:37:18.186973895Z"
        },
        "id": "ERwXTUC4cBwc"
      }
    },
    {
      "cell_type": "markdown",
      "source": [
        "d) Train the model on a batch size of 8 and 3 epochs.\n",
        "If you run out of memory, further reduce the batch size and the hidden layers' sizes."
      ],
      "metadata": {
        "collapsed": false,
        "id": "S7Zmr1eocBwc"
      }
    },
    {
      "cell_type": "code",
      "source": [
        "batch_size = 8\n",
        "epochs = 3\n",
        "\n",
        "# Train the model\n",
        "train(classifier, train_dataset, batch_size, epochs)"
      ],
      "metadata": {
        "colab": {
          "base_uri": "https://localhost:8080/"
        },
        "id": "QoNwXs7Hi7m9",
        "outputId": "2f4bb86a-10ca-4a11-c1f6-ca27d5dba07a"
      },
      "execution_count": 51,
      "outputs": [
        {
          "output_type": "stream",
          "name": "stdout",
          "text": [
            "Epoch 1/3 | Loss: 0.6420\n",
            "Epoch 2/3 | Loss: 0.4532\n",
            "Epoch 3/3 | Loss: 0.2662\n",
            "Training complete.\n"
          ]
        }
      ]
    },
    {
      "cell_type": "markdown",
      "source": [
        "## Task 3: Evaluate the Neural Network\n",
        "\n",
        "a) write a function that returns the accuracy of your trained model."
      ],
      "metadata": {
        "collapsed": false,
        "id": "HK3czIuIcBwc"
      }
    },
    {
      "cell_type": "code",
      "execution_count": 36,
      "outputs": [],
      "source": [
        "from sklearn.metrics import accuracy_score\n",
        "\n",
        "def evaluate(clf, test_data):\n",
        "    # Set the classifier to evaluation mode\n",
        "    clf.eval()\n",
        "\n",
        "    # Create a data loader for the test data\n",
        "    test_loader = DataLoader(test_data, batch_size=len(test_data))\n",
        "\n",
        "    # Iterate over the test data batches\n",
        "    for data, labels in test_loader:\n",
        "        # Forward pass through the classifier\n",
        "        outputs = clf(data)\n",
        "\n",
        "        # Convert the predicted labels to numpy array\n",
        "        predicted_labels = outputs.argmax(dim=1).numpy()\n",
        "\n",
        "        # Convert the true labels to numpy array\n",
        "        true_labels = labels.numpy()\n",
        "\n",
        "        # Compute the accuracy using scikit-learn's accuracy_score function\n",
        "        accuracy = accuracy_score(true_labels, predicted_labels)\n",
        "\n",
        "        # Return the accuracy\n",
        "        return accuracy\n"
      ],
      "metadata": {
        "ExecuteTime": {
          "end_time": "2023-05-17T08:37:20.217532406Z",
          "start_time": "2023-05-17T08:37:20.214392549Z"
        },
        "id": "-C9vR0c6cBwd"
      }
    },
    {
      "cell_type": "markdown",
      "source": [
        "b) Evaluate the model.\n",
        "- Test at least three different sets parameters for the neural network (hidden sizes)\n",
        "- Use higher values for the number of training epochs. What changes do you expect?"
      ],
      "metadata": {
        "collapsed": false,
        "id": "mSb5wb5acBwd"
      }
    },
    {
      "cell_type": "code",
      "source": [
        "# Evaluate the model on the test data\n",
        "test_accuracy = evaluate(classifier, test_dataset)\n",
        "\n",
        "print(\"Test Accuracy:\", test_accuracy)\n"
      ],
      "metadata": {
        "colab": {
          "base_uri": "https://localhost:8080/"
        },
        "id": "cFPZSG8crBW5",
        "outputId": "07bd7705-78fd-4b40-fbb2-272342091d04"
      },
      "execution_count": 37,
      "outputs": [
        {
          "output_type": "stream",
          "name": "stdout",
          "text": [
            "Test Accuracy: 0.8226\n"
          ]
        }
      ]
    },
    {
      "cell_type": "markdown",
      "source": [
        "### trying to evaluate systematically"
      ],
      "metadata": {
        "id": "kvJlfanltue6"
      }
    },
    {
      "cell_type": "code",
      "source": [
        "from sklearn.metrics import accuracy_score\n",
        "\n",
        "# Define the parameter combinations to try\n",
        "hidden_sizes = [(16, 8, 4),(64, 32, 16), (128, 64, 32)]\n",
        "\n",
        "best_accuracy = 0\n",
        "best_params = None\n",
        "\n",
        "for hidden_size in hidden_sizes:\n",
        "    # Create an instance of the neural network classifier\n",
        "    classifier = Classifier(input_size, hidden_size[0], hidden_size[1], hidden_size[2], output_size)\n",
        "\n",
        "    # Train the classifier on the training dataset\n",
        "    train(classifier, train_dataset, batch_size, epochs)\n",
        "\n",
        "    # Evaluate the classifier on the test dataset\n",
        "    accuracy = evaluate(classifier, test_dataset)\n",
        "\n",
        "    # Check if this parameter combination is the best so far\n",
        "    if accuracy > best_accuracy:\n",
        "        best_accuracy = accuracy\n",
        "        best_params = hidden_size\n",
        "\n",
        "# Print the best parameter combination and the corresponding accuracy\n",
        "print(\"Best Parameters:\", best_params)\n",
        "print(\"Accuracy:\", best_accuracy)"
      ],
      "metadata": {
        "colab": {
          "base_uri": "https://localhost:8080/"
        },
        "id": "DEND-8vmmliy",
        "outputId": "6057b280-028c-47f8-f2d7-551036635009"
      },
      "execution_count": 46,
      "outputs": [
        {
          "output_type": "stream",
          "name": "stdout",
          "text": [
            "Epoch 1/3 | Loss: 0.6038\n",
            "Epoch 2/3 | Loss: 0.4320\n",
            "Epoch 3/3 | Loss: 0.3337\n",
            "Training complete.\n",
            "Epoch 1/3 | Loss: 0.5315\n",
            "Epoch 2/3 | Loss: 0.1796\n",
            "Epoch 3/3 | Loss: 0.0567\n",
            "Training complete.\n",
            "Epoch 1/3 | Loss: 0.4463\n",
            "Epoch 2/3 | Loss: 0.1213\n",
            "Epoch 3/3 | Loss: 0.0273\n",
            "Training complete.\n",
            "Best Parameters: (64, 32, 16)\n",
            "Accuracy: 0.8626\n"
          ]
        }
      ]
    },
    {
      "cell_type": "code",
      "source": [],
      "metadata": {
        "id": "yYCSlVbjt6Ne"
      },
      "execution_count": null,
      "outputs": []
    }
  ],
  "metadata": {
    "kernelspec": {
      "display_name": "Python 3",
      "language": "python",
      "name": "python3"
    },
    "language_info": {
      "codemirror_mode": {
        "name": "ipython",
        "version": 2
      },
      "file_extension": ".py",
      "mimetype": "text/x-python",
      "name": "python",
      "nbconvert_exporter": "python",
      "pygments_lexer": "ipython2",
      "version": "2.7.6"
    },
    "colab": {
      "provenance": [],
      "include_colab_link": true
    }
  },
  "nbformat": 4,
  "nbformat_minor": 0
}