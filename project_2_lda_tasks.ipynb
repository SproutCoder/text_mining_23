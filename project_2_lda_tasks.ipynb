{
  "cells": [
    {
      "cell_type": "markdown",
      "metadata": {
        "id": "view-in-github",
        "colab_type": "text"
      },
      "source": [
        "<a href=\"https://colab.research.google.com/github/SproutCoder/text_mining_23/blob/main/project_2_lda_tasks.ipynb\" target=\"_parent\"><img src=\"https://colab.research.google.com/assets/colab-badge.svg\" alt=\"Open In Colab\"/></a>"
      ]
    },
    {
      "cell_type": "markdown",
      "source": [
        "# Project 2: Topic Modelling using BOW and Latent Dirichlet Allocation\n",
        "\n",
        "For this project, imagine you are a group of data scientists who want to categorize news articles, without prior knowledge on their topics. Vectorize the documents using the *bag of words* method and apply *Latent Dirichlet Allocation* for topic modelling.\n",
        "\n",
        "\n",
        "For this project, you might need the following python packages:\n",
        "- sklearn\n",
        "- pandas\n",
        "- gensim\n",
        "- string\n",
        "\n",
        "### Enter names and mat. numbers:\n",
        "- name 1, mat 1\n",
        "- name 2, mat 2\n",
        "- name 3, mat 3\n",
        "- name 4, mat 4\n",
        "- name 5, mat 5"
      ],
      "metadata": {
        "collapsed": false,
        "id": "NTq9jnWHT879"
      }
    },
    {
      "cell_type": "markdown",
      "source": [
        "## Task 1: Preprocessing\n",
        "\n",
        "Perform the following preprocessing steps on the given dataset `data.csv`.\n",
        "\n",
        "1. remove **duplicates**\n",
        "2. **Tokenization**\n",
        "3. Remove **stopwords**\n",
        "4. Remove **punctuations**\n",
        "5. **Lemmatization**: change words in third person to first person and verbs in past and future tenses into present.\n",
        "6. **Stemming**: use a porter stemmer\n"
      ],
      "metadata": {
        "collapsed": false,
        "id": "2VFr0AhrT88B"
      }
    },
    {
      "cell_type": "markdown",
      "source": [
        "### 1.1 Import Packages and Data"
      ],
      "metadata": {
        "id": "Ooe4amiNF0It"
      }
    },
    {
      "cell_type": "code",
      "execution_count": null,
      "outputs": [
        {
          "output_type": "stream",
          "name": "stderr",
          "text": [
            "[nltk_data] Downloading package punkt to /root/nltk_data...\n",
            "[nltk_data]   Package punkt is already up-to-date!\n",
            "[nltk_data] Downloading package stopwords to /root/nltk_data...\n",
            "[nltk_data]   Package stopwords is already up-to-date!\n",
            "[nltk_data] Downloading package averaged_perceptron_tagger to\n",
            "[nltk_data]     /root/nltk_data...\n",
            "[nltk_data]   Package averaged_perceptron_tagger is already up-to-\n",
            "[nltk_data]       date!\n",
            "[nltk_data] Downloading package wordnet to /root/nltk_data...\n",
            "[nltk_data]   Package wordnet is already up-to-date!\n"
          ]
        }
      ],
      "source": [
        "import pandas as pd\n",
        "import nltk #new line\n",
        "nltk.download('punkt') #new line\n",
        "nltk.download('stopwords') #new line\n",
        "nltk.download('averaged_perceptron_tagger') #new line\n",
        "nltk.download('wordnet') #new line\n",
        "from nltk.corpus import stopwords, wordnet\n",
        "from nltk.stem import porter, WordNetLemmatizer, PorterStemmer\n",
        "from nltk import word_tokenize\n",
        "import re\n",
        "import string"
      ],
      "metadata": {
        "ExecuteTime": {
          "start_time": "2023-04-28T11:55:00.275907Z",
          "end_time": "2023-04-28T11:55:00.319313Z"
        },
        "colab": {
          "base_uri": "https://localhost:8080/"
        },
        "id": "dWiOnnzhT88C",
        "outputId": "e46efabf-dc5f-4323-b983-c0be00314faf"
      }
    },
    {
      "cell_type": "code",
      "source": [
        "# import data set\n",
        "df = pd.read_csv('articles.csv', encoding='latin')\n",
        "\n",
        "#remove duplicates\n",
        "print('shape with duplicates: ', df.shape)\n",
        "df.drop_duplicates(subset=['Article'], inplace=True)\n",
        "print('shape having removed duplicates:', df.shape)\n",
        "df.head()"
      ],
      "metadata": {
        "colab": {
          "base_uri": "https://localhost:8080/",
          "height": 285
        },
        "id": "aATJfThpt8d_",
        "outputId": "8772f9e7-cf32-4f3f-ef87-bee1c40e7221"
      },
      "execution_count": null,
      "outputs": [
        {
          "output_type": "stream",
          "name": "stdout",
          "text": [
            "shape with duplicates:  (2692, 4)\n",
            "shape having removed duplicates: (2584, 4)\n"
          ]
        },
        {
          "output_type": "execute_result",
          "data": {
            "text/plain": [
              "                                             Article      Date  \\\n",
              "0  KARACHI: The Sindh government has decided to b...  1/1/2015   \n",
              "1  HONG KONG: Asian markets started 2015 on an up...  1/2/2015   \n",
              "2  HONG KONG:  Hong Kong shares opened 0.66 perce...  1/5/2015   \n",
              "3  HONG KONG: Asian markets tumbled Tuesday follo...  1/6/2015   \n",
              "4  NEW YORK: US oil prices Monday slipped below $...  1/6/2015   \n",
              "\n",
              "                                             Heading  NewsType  \n",
              "0  sindh govt decides to cut public transport far...  business  \n",
              "1                    asia stocks up in new year trad  business  \n",
              "2           hong kong stocks open 0.66 percent lower  business  \n",
              "3             asian stocks sink euro near nine year   business  \n",
              "4                 us oil prices slip below 50 a barr  business  "
            ],
            "text/html": [
              "\n",
              "  <div id=\"df-89dfb1a7-7bc5-41f3-8dd9-17ed1dd34653\">\n",
              "    <div class=\"colab-df-container\">\n",
              "      <div>\n",
              "<style scoped>\n",
              "    .dataframe tbody tr th:only-of-type {\n",
              "        vertical-align: middle;\n",
              "    }\n",
              "\n",
              "    .dataframe tbody tr th {\n",
              "        vertical-align: top;\n",
              "    }\n",
              "\n",
              "    .dataframe thead th {\n",
              "        text-align: right;\n",
              "    }\n",
              "</style>\n",
              "<table border=\"1\" class=\"dataframe\">\n",
              "  <thead>\n",
              "    <tr style=\"text-align: right;\">\n",
              "      <th></th>\n",
              "      <th>Article</th>\n",
              "      <th>Date</th>\n",
              "      <th>Heading</th>\n",
              "      <th>NewsType</th>\n",
              "    </tr>\n",
              "  </thead>\n",
              "  <tbody>\n",
              "    <tr>\n",
              "      <th>0</th>\n",
              "      <td>KARACHI: The Sindh government has decided to b...</td>\n",
              "      <td>1/1/2015</td>\n",
              "      <td>sindh govt decides to cut public transport far...</td>\n",
              "      <td>business</td>\n",
              "    </tr>\n",
              "    <tr>\n",
              "      <th>1</th>\n",
              "      <td>HONG KONG: Asian markets started 2015 on an up...</td>\n",
              "      <td>1/2/2015</td>\n",
              "      <td>asia stocks up in new year trad</td>\n",
              "      <td>business</td>\n",
              "    </tr>\n",
              "    <tr>\n",
              "      <th>2</th>\n",
              "      <td>HONG KONG:  Hong Kong shares opened 0.66 perce...</td>\n",
              "      <td>1/5/2015</td>\n",
              "      <td>hong kong stocks open 0.66 percent lower</td>\n",
              "      <td>business</td>\n",
              "    </tr>\n",
              "    <tr>\n",
              "      <th>3</th>\n",
              "      <td>HONG KONG: Asian markets tumbled Tuesday follo...</td>\n",
              "      <td>1/6/2015</td>\n",
              "      <td>asian stocks sink euro near nine year</td>\n",
              "      <td>business</td>\n",
              "    </tr>\n",
              "    <tr>\n",
              "      <th>4</th>\n",
              "      <td>NEW YORK: US oil prices Monday slipped below $...</td>\n",
              "      <td>1/6/2015</td>\n",
              "      <td>us oil prices slip below 50 a barr</td>\n",
              "      <td>business</td>\n",
              "    </tr>\n",
              "  </tbody>\n",
              "</table>\n",
              "</div>\n",
              "      <button class=\"colab-df-convert\" onclick=\"convertToInteractive('df-89dfb1a7-7bc5-41f3-8dd9-17ed1dd34653')\"\n",
              "              title=\"Convert this dataframe to an interactive table.\"\n",
              "              style=\"display:none;\">\n",
              "        \n",
              "  <svg xmlns=\"http://www.w3.org/2000/svg\" height=\"24px\"viewBox=\"0 0 24 24\"\n",
              "       width=\"24px\">\n",
              "    <path d=\"M0 0h24v24H0V0z\" fill=\"none\"/>\n",
              "    <path d=\"M18.56 5.44l.94 2.06.94-2.06 2.06-.94-2.06-.94-.94-2.06-.94 2.06-2.06.94zm-11 1L8.5 8.5l.94-2.06 2.06-.94-2.06-.94L8.5 2.5l-.94 2.06-2.06.94zm10 10l.94 2.06.94-2.06 2.06-.94-2.06-.94-.94-2.06-.94 2.06-2.06.94z\"/><path d=\"M17.41 7.96l-1.37-1.37c-.4-.4-.92-.59-1.43-.59-.52 0-1.04.2-1.43.59L10.3 9.45l-7.72 7.72c-.78.78-.78 2.05 0 2.83L4 21.41c.39.39.9.59 1.41.59.51 0 1.02-.2 1.41-.59l7.78-7.78 2.81-2.81c.8-.78.8-2.07 0-2.86zM5.41 20L4 18.59l7.72-7.72 1.47 1.35L5.41 20z\"/>\n",
              "  </svg>\n",
              "      </button>\n",
              "      \n",
              "  <style>\n",
              "    .colab-df-container {\n",
              "      display:flex;\n",
              "      flex-wrap:wrap;\n",
              "      gap: 12px;\n",
              "    }\n",
              "\n",
              "    .colab-df-convert {\n",
              "      background-color: #E8F0FE;\n",
              "      border: none;\n",
              "      border-radius: 50%;\n",
              "      cursor: pointer;\n",
              "      display: none;\n",
              "      fill: #1967D2;\n",
              "      height: 32px;\n",
              "      padding: 0 0 0 0;\n",
              "      width: 32px;\n",
              "    }\n",
              "\n",
              "    .colab-df-convert:hover {\n",
              "      background-color: #E2EBFA;\n",
              "      box-shadow: 0px 1px 2px rgba(60, 64, 67, 0.3), 0px 1px 3px 1px rgba(60, 64, 67, 0.15);\n",
              "      fill: #174EA6;\n",
              "    }\n",
              "\n",
              "    [theme=dark] .colab-df-convert {\n",
              "      background-color: #3B4455;\n",
              "      fill: #D2E3FC;\n",
              "    }\n",
              "\n",
              "    [theme=dark] .colab-df-convert:hover {\n",
              "      background-color: #434B5C;\n",
              "      box-shadow: 0px 1px 3px 1px rgba(0, 0, 0, 0.15);\n",
              "      filter: drop-shadow(0px 1px 2px rgba(0, 0, 0, 0.3));\n",
              "      fill: #FFFFFF;\n",
              "    }\n",
              "  </style>\n",
              "\n",
              "      <script>\n",
              "        const buttonEl =\n",
              "          document.querySelector('#df-89dfb1a7-7bc5-41f3-8dd9-17ed1dd34653 button.colab-df-convert');\n",
              "        buttonEl.style.display =\n",
              "          google.colab.kernel.accessAllowed ? 'block' : 'none';\n",
              "\n",
              "        async function convertToInteractive(key) {\n",
              "          const element = document.querySelector('#df-89dfb1a7-7bc5-41f3-8dd9-17ed1dd34653');\n",
              "          const dataTable =\n",
              "            await google.colab.kernel.invokeFunction('convertToInteractive',\n",
              "                                                     [key], {});\n",
              "          if (!dataTable) return;\n",
              "\n",
              "          const docLinkHtml = 'Like what you see? Visit the ' +\n",
              "            '<a target=\"_blank\" href=https://colab.research.google.com/notebooks/data_table.ipynb>data table notebook</a>'\n",
              "            + ' to learn more about interactive tables.';\n",
              "          element.innerHTML = '';\n",
              "          dataTable['output_type'] = 'display_data';\n",
              "          await google.colab.output.renderOutput(dataTable, element);\n",
              "          const docLink = document.createElement('div');\n",
              "          docLink.innerHTML = docLinkHtml;\n",
              "          element.appendChild(docLink);\n",
              "        }\n",
              "      </script>\n",
              "    </div>\n",
              "  </div>\n",
              "  "
            ]
          },
          "metadata": {},
          "execution_count": 2
        }
      ]
    },
    {
      "cell_type": "markdown",
      "source": [
        "### 1.2 Define Preprocessing Function"
      ],
      "metadata": {
        "id": "rLQSKhzGF4rL"
      }
    },
    {
      "cell_type": "code",
      "source": [
        "def preprocess(document: str):\n",
        "  # tokenize\n",
        "  document = re.sub(r'\\W+', ' ', document)  # Replace non-alphanumeric characters with spaces so we also catch strings like \"reported.Sources\"\n",
        "  tokens = word_tokenize(document)  # Tokenize the resulting string\n",
        "\n",
        "  # remove stop words\n",
        "  stop_words = set(stopwords.words('english')) # create a set of English stopwords\n",
        "  filtered_tokens = [word for word in tokens if word.lower() not in stop_words] # remove stopwords\n",
        "\n",
        "  # remove punctuation\n",
        "  clean_tokens = [token for token in tokens if token not in string.punctuation]\n",
        "  \n",
        "  \n",
        "  # perform POS tagging (needed for lemmatization)\n",
        "  tagged_tokens = nltk.pos_tag(tokens) # => e.g. ('dogs', 'NNS'); uses Penn Treebank POS, which are not compatible with WordNet\n",
        "\n",
        "  #convert Penn Treebank POS tags to WordNet POS tags \n",
        "  def convert_to_wordnet_pos(penn_pos):\n",
        "      if penn_pos.startswith('J'):\n",
        "          return wordnet.ADJ\n",
        "      elif penn_pos.startswith('V'):\n",
        "          return wordnet.VERB\n",
        "      elif penn_pos.startswith('N'):\n",
        "          return wordnet.NOUN\n",
        "      elif penn_pos.startswith('R'):\n",
        "          return wordnet.ADV\n",
        "      else:\n",
        "          return wordnet.NOUN  # noun as default\n",
        "\n",
        "  # lemmatize each token based on its WordNet POS tag\n",
        "  lemmatizer = WordNetLemmatizer()\n",
        "  lemmatized_tokens = list(map(lambda x: lemmatizer.lemmatize(x[0], convert_to_wordnet_pos(x[1])), tagged_tokens))\n",
        "\n",
        "  # stem tokens\n",
        "  stemmer = PorterStemmer()\n",
        "  stemmed_tokens = [stemmer.stem(token) for token in lemmatized_tokens]\n",
        "  return stemmed_tokens"
      ],
      "metadata": {
        "id": "5wS_WhRrs-f9"
      },
      "execution_count": null,
      "outputs": []
    },
    {
      "cell_type": "markdown",
      "source": [
        "### 1.3 Apply Preprocessing Function to Data"
      ],
      "metadata": {
        "id": "8nUoCuhcFjej"
      }
    },
    {
      "cell_type": "code",
      "source": [
        "pre_df = pd.DataFrame()\n",
        "pre_df['Article'] = df['Article'].apply(preprocess)\n",
        "pre_df['Heading'] = df['Heading'].apply(preprocess)\n",
        "pre_df['Date'] = df['Date']\n",
        "pre_df['NewsType'] = df['NewsType']\n",
        "pre_df.head()"
      ],
      "metadata": {
        "colab": {
          "base_uri": "https://localhost:8080/",
          "height": 206
        },
        "id": "5wJKqKCOBc18",
        "outputId": "0534cd29-52f2-4818-b4a9-55251c4e3beb"
      },
      "execution_count": null,
      "outputs": [
        {
          "output_type": "execute_result",
          "data": {
            "text/plain": [
              "                                             Article  \\\n",
              "0  [karachi, the, sindh, govern, have, decid, to,...   \n",
              "1  [hong, kong, asian, market, start, 2015, on, a...   \n",
              "2  [hong, kong, hong, kong, share, open, 0, 66, p...   \n",
              "3  [hong, kong, asian, market, tumbl, tuesday, fo...   \n",
              "4  [new, york, us, oil, price, monday, slip, belo...   \n",
              "\n",
              "                                             Heading      Date  NewsType  \n",
              "0  [sindh, govt, decid, to, cut, public, transpor...  1/1/2015  business  \n",
              "1             [asia, stock, up, in, new, year, trad]  1/2/2015  business  \n",
              "2     [hong, kong, stock, open, 0, 66, percent, low]  1/5/2015  business  \n",
              "3       [asian, stock, sink, euro, near, nine, year]  1/6/2015  business  \n",
              "4          [u, oil, price, slip, below, 50, a, barr]  1/6/2015  business  "
            ],
            "text/html": [
              "\n",
              "  <div id=\"df-71741bde-799d-440e-8dd8-43260d3e1275\">\n",
              "    <div class=\"colab-df-container\">\n",
              "      <div>\n",
              "<style scoped>\n",
              "    .dataframe tbody tr th:only-of-type {\n",
              "        vertical-align: middle;\n",
              "    }\n",
              "\n",
              "    .dataframe tbody tr th {\n",
              "        vertical-align: top;\n",
              "    }\n",
              "\n",
              "    .dataframe thead th {\n",
              "        text-align: right;\n",
              "    }\n",
              "</style>\n",
              "<table border=\"1\" class=\"dataframe\">\n",
              "  <thead>\n",
              "    <tr style=\"text-align: right;\">\n",
              "      <th></th>\n",
              "      <th>Article</th>\n",
              "      <th>Heading</th>\n",
              "      <th>Date</th>\n",
              "      <th>NewsType</th>\n",
              "    </tr>\n",
              "  </thead>\n",
              "  <tbody>\n",
              "    <tr>\n",
              "      <th>0</th>\n",
              "      <td>[karachi, the, sindh, govern, have, decid, to,...</td>\n",
              "      <td>[sindh, govt, decid, to, cut, public, transpor...</td>\n",
              "      <td>1/1/2015</td>\n",
              "      <td>business</td>\n",
              "    </tr>\n",
              "    <tr>\n",
              "      <th>1</th>\n",
              "      <td>[hong, kong, asian, market, start, 2015, on, a...</td>\n",
              "      <td>[asia, stock, up, in, new, year, trad]</td>\n",
              "      <td>1/2/2015</td>\n",
              "      <td>business</td>\n",
              "    </tr>\n",
              "    <tr>\n",
              "      <th>2</th>\n",
              "      <td>[hong, kong, hong, kong, share, open, 0, 66, p...</td>\n",
              "      <td>[hong, kong, stock, open, 0, 66, percent, low]</td>\n",
              "      <td>1/5/2015</td>\n",
              "      <td>business</td>\n",
              "    </tr>\n",
              "    <tr>\n",
              "      <th>3</th>\n",
              "      <td>[hong, kong, asian, market, tumbl, tuesday, fo...</td>\n",
              "      <td>[asian, stock, sink, euro, near, nine, year]</td>\n",
              "      <td>1/6/2015</td>\n",
              "      <td>business</td>\n",
              "    </tr>\n",
              "    <tr>\n",
              "      <th>4</th>\n",
              "      <td>[new, york, us, oil, price, monday, slip, belo...</td>\n",
              "      <td>[u, oil, price, slip, below, 50, a, barr]</td>\n",
              "      <td>1/6/2015</td>\n",
              "      <td>business</td>\n",
              "    </tr>\n",
              "  </tbody>\n",
              "</table>\n",
              "</div>\n",
              "      <button class=\"colab-df-convert\" onclick=\"convertToInteractive('df-71741bde-799d-440e-8dd8-43260d3e1275')\"\n",
              "              title=\"Convert this dataframe to an interactive table.\"\n",
              "              style=\"display:none;\">\n",
              "        \n",
              "  <svg xmlns=\"http://www.w3.org/2000/svg\" height=\"24px\"viewBox=\"0 0 24 24\"\n",
              "       width=\"24px\">\n",
              "    <path d=\"M0 0h24v24H0V0z\" fill=\"none\"/>\n",
              "    <path d=\"M18.56 5.44l.94 2.06.94-2.06 2.06-.94-2.06-.94-.94-2.06-.94 2.06-2.06.94zm-11 1L8.5 8.5l.94-2.06 2.06-.94-2.06-.94L8.5 2.5l-.94 2.06-2.06.94zm10 10l.94 2.06.94-2.06 2.06-.94-2.06-.94-.94-2.06-.94 2.06-2.06.94z\"/><path d=\"M17.41 7.96l-1.37-1.37c-.4-.4-.92-.59-1.43-.59-.52 0-1.04.2-1.43.59L10.3 9.45l-7.72 7.72c-.78.78-.78 2.05 0 2.83L4 21.41c.39.39.9.59 1.41.59.51 0 1.02-.2 1.41-.59l7.78-7.78 2.81-2.81c.8-.78.8-2.07 0-2.86zM5.41 20L4 18.59l7.72-7.72 1.47 1.35L5.41 20z\"/>\n",
              "  </svg>\n",
              "      </button>\n",
              "      \n",
              "  <style>\n",
              "    .colab-df-container {\n",
              "      display:flex;\n",
              "      flex-wrap:wrap;\n",
              "      gap: 12px;\n",
              "    }\n",
              "\n",
              "    .colab-df-convert {\n",
              "      background-color: #E8F0FE;\n",
              "      border: none;\n",
              "      border-radius: 50%;\n",
              "      cursor: pointer;\n",
              "      display: none;\n",
              "      fill: #1967D2;\n",
              "      height: 32px;\n",
              "      padding: 0 0 0 0;\n",
              "      width: 32px;\n",
              "    }\n",
              "\n",
              "    .colab-df-convert:hover {\n",
              "      background-color: #E2EBFA;\n",
              "      box-shadow: 0px 1px 2px rgba(60, 64, 67, 0.3), 0px 1px 3px 1px rgba(60, 64, 67, 0.15);\n",
              "      fill: #174EA6;\n",
              "    }\n",
              "\n",
              "    [theme=dark] .colab-df-convert {\n",
              "      background-color: #3B4455;\n",
              "      fill: #D2E3FC;\n",
              "    }\n",
              "\n",
              "    [theme=dark] .colab-df-convert:hover {\n",
              "      background-color: #434B5C;\n",
              "      box-shadow: 0px 1px 3px 1px rgba(0, 0, 0, 0.15);\n",
              "      filter: drop-shadow(0px 1px 2px rgba(0, 0, 0, 0.3));\n",
              "      fill: #FFFFFF;\n",
              "    }\n",
              "  </style>\n",
              "\n",
              "      <script>\n",
              "        const buttonEl =\n",
              "          document.querySelector('#df-71741bde-799d-440e-8dd8-43260d3e1275 button.colab-df-convert');\n",
              "        buttonEl.style.display =\n",
              "          google.colab.kernel.accessAllowed ? 'block' : 'none';\n",
              "\n",
              "        async function convertToInteractive(key) {\n",
              "          const element = document.querySelector('#df-71741bde-799d-440e-8dd8-43260d3e1275');\n",
              "          const dataTable =\n",
              "            await google.colab.kernel.invokeFunction('convertToInteractive',\n",
              "                                                     [key], {});\n",
              "          if (!dataTable) return;\n",
              "\n",
              "          const docLinkHtml = 'Like what you see? Visit the ' +\n",
              "            '<a target=\"_blank\" href=https://colab.research.google.com/notebooks/data_table.ipynb>data table notebook</a>'\n",
              "            + ' to learn more about interactive tables.';\n",
              "          element.innerHTML = '';\n",
              "          dataTable['output_type'] = 'display_data';\n",
              "          await google.colab.output.renderOutput(dataTable, element);\n",
              "          const docLink = document.createElement('div');\n",
              "          docLink.innerHTML = docLinkHtml;\n",
              "          element.appendChild(docLink);\n",
              "        }\n",
              "      </script>\n",
              "    </div>\n",
              "  </div>\n",
              "  "
            ]
          },
          "metadata": {},
          "execution_count": 4
        }
      ]
    },
    {
      "cell_type": "markdown",
      "source": [
        "## Task 2: Latent Dirichlet Allocation\n",
        "\n",
        "Apply LDA to the tokenized dataset using `gensim`.\n",
        "\n",
        "1. Build a vocabulary using the gensim `Dictionary`\n",
        "2. filter outliers: words that occur in less than 20 documents of in more than 50% of the documents.\n",
        "3. create a BOW matrix for the preprocessed data\n",
        "4. Train the LDA model on the training data\n",
        "5. create a dataframe in which you map each document to a) its topic b) the topic's keywords"
      ],
      "metadata": {
        "collapsed": false,
        "id": "IVyNpjkCT88E"
      }
    },
    {
      "cell_type": "code",
      "execution_count": null,
      "outputs": [],
      "source": [
        "# your code here"
      ],
      "metadata": {
        "ExecuteTime": {
          "start_time": "2023-04-28T16:00:46.693213Z",
          "end_time": "2023-04-28T16:00:46.694702Z"
        },
        "id": "RwS9ivK3T88F"
      }
    },
    {
      "cell_type": "markdown",
      "source": [
        "## Task 3: Discussion\n",
        "\n",
        "Try different parameters for the LDA Model. What kind effects do you expect / observe?"
      ],
      "metadata": {
        "collapsed": false,
        "id": "ID8lluU6T88F"
      }
    },
    {
      "cell_type": "raw",
      "source": [
        "# your answer here"
      ],
      "metadata": {
        "collapsed": false,
        "id": "dRESVhHmT88G"
      }
    }
  ],
  "metadata": {
    "kernelspec": {
      "display_name": "Python 3",
      "language": "python",
      "name": "python3"
    },
    "language_info": {
      "codemirror_mode": {
        "name": "ipython",
        "version": 2
      },
      "file_extension": ".py",
      "mimetype": "text/x-python",
      "name": "python",
      "nbconvert_exporter": "python",
      "pygments_lexer": "ipython2",
      "version": "2.7.6"
    },
    "colab": {
      "provenance": [],
      "include_colab_link": true
    }
  },
  "nbformat": 4,
  "nbformat_minor": 0
}