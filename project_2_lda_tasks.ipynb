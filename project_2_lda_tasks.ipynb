{
  "cells": [
    {
      "cell_type": "markdown",
      "metadata": {
        "id": "view-in-github",
        "colab_type": "text"
      },
      "source": [
        "<a href=\"https://colab.research.google.com/github/SproutCoder/text_mining_23/blob/main/project_2_lda_tasks.ipynb\" target=\"_parent\"><img src=\"https://colab.research.google.com/assets/colab-badge.svg\" alt=\"Open In Colab\"/></a>"
      ]
    },
    {
      "cell_type": "markdown",
      "source": [
        "# Project 2: Topic Modelling using BOW and Latent Dirichlet Allocation\n",
        "\n",
        "For this project, imagine you are a group of data scientists who want to categorize news articles, without prior knowledge on their topics. Vectorize the documents using the *bag of words* method and apply *Latent Dirichlet Allocation* for topic modelling.\n",
        "\n",
        "\n",
        "For this project, you might need the following python packages:\n",
        "- sklearn\n",
        "- pandas\n",
        "- gensim\n",
        "- string\n",
        "\n",
        "### Enter names and mat. numbers:\n",
        "- Sebastian Pirozhkov, 421892\n",
        "- Christopher Kaschny, 447930\n",
        "- name 3, mat 3\n",
        "- name 4, mat 4\n",
        "- name 5, mat 5"
      ],
      "metadata": {
        "collapsed": false,
        "id": "NTq9jnWHT879"
      }
    },
    {
      "cell_type": "markdown",
      "source": [
        "## Task 1: Preprocessing\n",
        "\n",
        "Perform the following preprocessing steps on the given dataset `data.csv`.\n",
        "\n",
        "1. remove **duplicates**\n",
        "2. **Tokenization**\n",
        "3. Remove **stopwords**\n",
        "4. Remove **punctuations**\n",
        "5. **Lemmatization**: change words in third person to first person and verbs in past and future tenses into present.\n",
        "6. **Stemming**: use a porter stemmer\n"
      ],
      "metadata": {
        "collapsed": false,
        "id": "2VFr0AhrT88B"
      }
    },
    {
      "cell_type": "markdown",
      "source": [
        "### 1.1 Import Packages and Data"
      ],
      "metadata": {
        "id": "Ooe4amiNF0It"
      }
    },
    {
      "cell_type": "code",
      "execution_count": 1,
      "outputs": [
        {
          "output_type": "stream",
          "name": "stderr",
          "text": [
            "[nltk_data] Downloading package punkt to /root/nltk_data...\n",
            "[nltk_data]   Package punkt is already up-to-date!\n",
            "[nltk_data] Downloading package stopwords to /root/nltk_data...\n",
            "[nltk_data]   Package stopwords is already up-to-date!\n",
            "[nltk_data] Downloading package averaged_perceptron_tagger to\n",
            "[nltk_data]     /root/nltk_data...\n",
            "[nltk_data]   Package averaged_perceptron_tagger is already up-to-\n",
            "[nltk_data]       date!\n",
            "[nltk_data] Downloading package wordnet to /root/nltk_data...\n",
            "[nltk_data]   Package wordnet is already up-to-date!\n"
          ]
        }
      ],
      "source": [
        "import pandas as pd\n",
        "import nltk #new line\n",
        "nltk.download('punkt') #new line\n",
        "nltk.download('stopwords') #new line\n",
        "nltk.download('averaged_perceptron_tagger') #new line\n",
        "nltk.download('wordnet') #new line\n",
        "from nltk.corpus import stopwords, wordnet\n",
        "from nltk.stem import porter, WordNetLemmatizer, PorterStemmer\n",
        "from nltk import word_tokenize\n",
        "import re\n",
        "import string\n",
        "\n",
        "from gensim.corpora import Dictionary\n",
        "from gensim.matutils import corpus2dense\n",
        "from gensim.models.ldamodel import LdaModel"
      ],
      "metadata": {
        "ExecuteTime": {
          "start_time": "2023-04-28T11:55:00.275907Z",
          "end_time": "2023-04-28T11:55:00.319313Z"
        },
        "colab": {
          "base_uri": "https://localhost:8080/"
        },
        "id": "dWiOnnzhT88C",
        "outputId": "ff6ba7c7-f415-4352-f5c0-571648c21f97"
      }
    },
    {
      "cell_type": "code",
      "source": [
        "# import data set\n",
        "df = pd.read_csv('./articles.csv', encoding='latin')\n",
        "\n",
        "#remove duplicates\n",
        "print('shape with duplicates: ', df.shape)\n",
        "df.drop_duplicates(subset=['Article'], inplace=True)\n",
        "print('shape having removed duplicates:', df.shape)\n",
        "df.head()"
      ],
      "metadata": {
        "colab": {
          "base_uri": "https://localhost:8080/",
          "height": 241
        },
        "id": "aATJfThpt8d_",
        "outputId": "3d32cc90-8405-4da8-a92a-4bcfad8532c8"
      },
      "execution_count": 2,
      "outputs": [
        {
          "output_type": "stream",
          "name": "stdout",
          "text": [
            "shape with duplicates:  (2692, 4)\n",
            "shape having removed duplicates: (2584, 4)\n"
          ]
        },
        {
          "output_type": "execute_result",
          "data": {
            "text/plain": [
              "                                             Article      Date  \\\n",
              "0  KARACHI: The Sindh government has decided to b...  1/1/2015   \n",
              "1  HONG KONG: Asian markets started 2015 on an up...  1/2/2015   \n",
              "2  HONG KONG:  Hong Kong shares opened 0.66 perce...  1/5/2015   \n",
              "3  HONG KONG: Asian markets tumbled Tuesday follo...  1/6/2015   \n",
              "4  NEW YORK: US oil prices Monday slipped below $...  1/6/2015   \n",
              "\n",
              "                                             Heading  NewsType  \n",
              "0  sindh govt decides to cut public transport far...  business  \n",
              "1                    asia stocks up in new year trad  business  \n",
              "2           hong kong stocks open 0.66 percent lower  business  \n",
              "3             asian stocks sink euro near nine year   business  \n",
              "4                 us oil prices slip below 50 a barr  business  "
            ],
            "text/html": [
              "\n",
              "  <div id=\"df-55b8865b-c8ba-4afe-8e60-c13ee7f0fad3\">\n",
              "    <div class=\"colab-df-container\">\n",
              "      <div>\n",
              "<style scoped>\n",
              "    .dataframe tbody tr th:only-of-type {\n",
              "        vertical-align: middle;\n",
              "    }\n",
              "\n",
              "    .dataframe tbody tr th {\n",
              "        vertical-align: top;\n",
              "    }\n",
              "\n",
              "    .dataframe thead th {\n",
              "        text-align: right;\n",
              "    }\n",
              "</style>\n",
              "<table border=\"1\" class=\"dataframe\">\n",
              "  <thead>\n",
              "    <tr style=\"text-align: right;\">\n",
              "      <th></th>\n",
              "      <th>Article</th>\n",
              "      <th>Date</th>\n",
              "      <th>Heading</th>\n",
              "      <th>NewsType</th>\n",
              "    </tr>\n",
              "  </thead>\n",
              "  <tbody>\n",
              "    <tr>\n",
              "      <th>0</th>\n",
              "      <td>KARACHI: The Sindh government has decided to b...</td>\n",
              "      <td>1/1/2015</td>\n",
              "      <td>sindh govt decides to cut public transport far...</td>\n",
              "      <td>business</td>\n",
              "    </tr>\n",
              "    <tr>\n",
              "      <th>1</th>\n",
              "      <td>HONG KONG: Asian markets started 2015 on an up...</td>\n",
              "      <td>1/2/2015</td>\n",
              "      <td>asia stocks up in new year trad</td>\n",
              "      <td>business</td>\n",
              "    </tr>\n",
              "    <tr>\n",
              "      <th>2</th>\n",
              "      <td>HONG KONG:  Hong Kong shares opened 0.66 perce...</td>\n",
              "      <td>1/5/2015</td>\n",
              "      <td>hong kong stocks open 0.66 percent lower</td>\n",
              "      <td>business</td>\n",
              "    </tr>\n",
              "    <tr>\n",
              "      <th>3</th>\n",
              "      <td>HONG KONG: Asian markets tumbled Tuesday follo...</td>\n",
              "      <td>1/6/2015</td>\n",
              "      <td>asian stocks sink euro near nine year</td>\n",
              "      <td>business</td>\n",
              "    </tr>\n",
              "    <tr>\n",
              "      <th>4</th>\n",
              "      <td>NEW YORK: US oil prices Monday slipped below $...</td>\n",
              "      <td>1/6/2015</td>\n",
              "      <td>us oil prices slip below 50 a barr</td>\n",
              "      <td>business</td>\n",
              "    </tr>\n",
              "  </tbody>\n",
              "</table>\n",
              "</div>\n",
              "      <button class=\"colab-df-convert\" onclick=\"convertToInteractive('df-55b8865b-c8ba-4afe-8e60-c13ee7f0fad3')\"\n",
              "              title=\"Convert this dataframe to an interactive table.\"\n",
              "              style=\"display:none;\">\n",
              "        \n",
              "  <svg xmlns=\"http://www.w3.org/2000/svg\" height=\"24px\"viewBox=\"0 0 24 24\"\n",
              "       width=\"24px\">\n",
              "    <path d=\"M0 0h24v24H0V0z\" fill=\"none\"/>\n",
              "    <path d=\"M18.56 5.44l.94 2.06.94-2.06 2.06-.94-2.06-.94-.94-2.06-.94 2.06-2.06.94zm-11 1L8.5 8.5l.94-2.06 2.06-.94-2.06-.94L8.5 2.5l-.94 2.06-2.06.94zm10 10l.94 2.06.94-2.06 2.06-.94-2.06-.94-.94-2.06-.94 2.06-2.06.94z\"/><path d=\"M17.41 7.96l-1.37-1.37c-.4-.4-.92-.59-1.43-.59-.52 0-1.04.2-1.43.59L10.3 9.45l-7.72 7.72c-.78.78-.78 2.05 0 2.83L4 21.41c.39.39.9.59 1.41.59.51 0 1.02-.2 1.41-.59l7.78-7.78 2.81-2.81c.8-.78.8-2.07 0-2.86zM5.41 20L4 18.59l7.72-7.72 1.47 1.35L5.41 20z\"/>\n",
              "  </svg>\n",
              "      </button>\n",
              "      \n",
              "  <style>\n",
              "    .colab-df-container {\n",
              "      display:flex;\n",
              "      flex-wrap:wrap;\n",
              "      gap: 12px;\n",
              "    }\n",
              "\n",
              "    .colab-df-convert {\n",
              "      background-color: #E8F0FE;\n",
              "      border: none;\n",
              "      border-radius: 50%;\n",
              "      cursor: pointer;\n",
              "      display: none;\n",
              "      fill: #1967D2;\n",
              "      height: 32px;\n",
              "      padding: 0 0 0 0;\n",
              "      width: 32px;\n",
              "    }\n",
              "\n",
              "    .colab-df-convert:hover {\n",
              "      background-color: #E2EBFA;\n",
              "      box-shadow: 0px 1px 2px rgba(60, 64, 67, 0.3), 0px 1px 3px 1px rgba(60, 64, 67, 0.15);\n",
              "      fill: #174EA6;\n",
              "    }\n",
              "\n",
              "    [theme=dark] .colab-df-convert {\n",
              "      background-color: #3B4455;\n",
              "      fill: #D2E3FC;\n",
              "    }\n",
              "\n",
              "    [theme=dark] .colab-df-convert:hover {\n",
              "      background-color: #434B5C;\n",
              "      box-shadow: 0px 1px 3px 1px rgba(0, 0, 0, 0.15);\n",
              "      filter: drop-shadow(0px 1px 2px rgba(0, 0, 0, 0.3));\n",
              "      fill: #FFFFFF;\n",
              "    }\n",
              "  </style>\n",
              "\n",
              "      <script>\n",
              "        const buttonEl =\n",
              "          document.querySelector('#df-55b8865b-c8ba-4afe-8e60-c13ee7f0fad3 button.colab-df-convert');\n",
              "        buttonEl.style.display =\n",
              "          google.colab.kernel.accessAllowed ? 'block' : 'none';\n",
              "\n",
              "        async function convertToInteractive(key) {\n",
              "          const element = document.querySelector('#df-55b8865b-c8ba-4afe-8e60-c13ee7f0fad3');\n",
              "          const dataTable =\n",
              "            await google.colab.kernel.invokeFunction('convertToInteractive',\n",
              "                                                     [key], {});\n",
              "          if (!dataTable) return;\n",
              "\n",
              "          const docLinkHtml = 'Like what you see? Visit the ' +\n",
              "            '<a target=\"_blank\" href=https://colab.research.google.com/notebooks/data_table.ipynb>data table notebook</a>'\n",
              "            + ' to learn more about interactive tables.';\n",
              "          element.innerHTML = '';\n",
              "          dataTable['output_type'] = 'display_data';\n",
              "          await google.colab.output.renderOutput(dataTable, element);\n",
              "          const docLink = document.createElement('div');\n",
              "          docLink.innerHTML = docLinkHtml;\n",
              "          element.appendChild(docLink);\n",
              "        }\n",
              "      </script>\n",
              "    </div>\n",
              "  </div>\n",
              "  "
            ]
          },
          "metadata": {},
          "execution_count": 2
        }
      ]
    },
    {
      "cell_type": "markdown",
      "source": [
        "### 1.2 Define Preprocessing Function"
      ],
      "metadata": {
        "id": "rLQSKhzGF4rL"
      }
    },
    {
      "cell_type": "code",
      "source": [
        "def preprocess(document: str):\n",
        "  # tokenize\n",
        "  document = re.sub(r'\\W+', ' ', document)  # Replace non-alphanumeric characters with spaces so we also catch strings like \"reported.Sources\"\n",
        "  tokens = word_tokenize(document)  # Tokenize the resulting string\n",
        "\n",
        "  # remove stop words\n",
        "  stop_words = set(stopwords.words('english')) # create a set of English stopwords\n",
        "  filtered_tokens = [word for word in tokens if word.lower() not in stop_words] # remove stopwords\n",
        "\n",
        "  # remove punctuation\n",
        "  clean_tokens = [token for token in tokens if token not in string.punctuation]\n",
        "  \n",
        "  \n",
        "  # perform POS tagging (needed for lemmatization)\n",
        "  tagged_tokens = nltk.pos_tag(tokens) # => e.g. ('dogs', 'NNS'); uses Penn Treebank POS, which are not compatible with WordNet\n",
        "\n",
        "  #convert Penn Treebank POS tags to WordNet POS tags \n",
        "  def convert_to_wordnet_pos(penn_pos):\n",
        "      if penn_pos.startswith('J'):\n",
        "          return wordnet.ADJ\n",
        "      elif penn_pos.startswith('V'):\n",
        "          return wordnet.VERB\n",
        "      elif penn_pos.startswith('N'):\n",
        "          return wordnet.NOUN\n",
        "      elif penn_pos.startswith('R'):\n",
        "          return wordnet.ADV\n",
        "      else:\n",
        "          return wordnet.NOUN  # noun as default\n",
        "\n",
        "  # lemmatize each token based on its WordNet POS tag\n",
        "  lemmatizer = WordNetLemmatizer()\n",
        "  lemmatized_tokens = list(map(lambda x: lemmatizer.lemmatize(x[0], convert_to_wordnet_pos(x[1])), tagged_tokens))\n",
        "\n",
        "  # stem tokens\n",
        "  stemmer = PorterStemmer()\n",
        "  stemmed_tokens = [stemmer.stem(token) for token in lemmatized_tokens]\n",
        "  return stemmed_tokens"
      ],
      "metadata": {
        "id": "5wS_WhRrs-f9"
      },
      "execution_count": 3,
      "outputs": []
    },
    {
      "cell_type": "markdown",
      "source": [
        "### 1.3 Apply Preprocessing Function to Data"
      ],
      "metadata": {
        "id": "8nUoCuhcFjej"
      }
    },
    {
      "cell_type": "code",
      "source": [
        "pre_df = pd.DataFrame()\n",
        "pre_df['Article'] = df['Article'].apply(preprocess)\n",
        "pre_df['Heading'] = df['Heading'].apply(preprocess)\n",
        "pre_df['Date'] = df['Date']\n",
        "pre_df['NewsType'] = df['NewsType']\n",
        "pre_df.head()"
      ],
      "metadata": {
        "colab": {
          "base_uri": "https://localhost:8080/",
          "height": 206
        },
        "id": "5wJKqKCOBc18",
        "outputId": "ed9b111f-f6ed-4ed5-9a2d-9e105bdcbfaf"
      },
      "execution_count": 4,
      "outputs": [
        {
          "output_type": "execute_result",
          "data": {
            "text/plain": [
              "                                             Article  \\\n",
              "0  [karachi, the, sindh, govern, have, decid, to,...   \n",
              "1  [hong, kong, asian, market, start, 2015, on, a...   \n",
              "2  [hong, kong, hong, kong, share, open, 0, 66, p...   \n",
              "3  [hong, kong, asian, market, tumbl, tuesday, fo...   \n",
              "4  [new, york, us, oil, price, monday, slip, belo...   \n",
              "\n",
              "                                             Heading      Date  NewsType  \n",
              "0  [sindh, govt, decid, to, cut, public, transpor...  1/1/2015  business  \n",
              "1             [asia, stock, up, in, new, year, trad]  1/2/2015  business  \n",
              "2     [hong, kong, stock, open, 0, 66, percent, low]  1/5/2015  business  \n",
              "3       [asian, stock, sink, euro, near, nine, year]  1/6/2015  business  \n",
              "4          [u, oil, price, slip, below, 50, a, barr]  1/6/2015  business  "
            ],
            "text/html": [
              "\n",
              "  <div id=\"df-49a211ac-81ea-43a8-9d7b-945a18cda59f\">\n",
              "    <div class=\"colab-df-container\">\n",
              "      <div>\n",
              "<style scoped>\n",
              "    .dataframe tbody tr th:only-of-type {\n",
              "        vertical-align: middle;\n",
              "    }\n",
              "\n",
              "    .dataframe tbody tr th {\n",
              "        vertical-align: top;\n",
              "    }\n",
              "\n",
              "    .dataframe thead th {\n",
              "        text-align: right;\n",
              "    }\n",
              "</style>\n",
              "<table border=\"1\" class=\"dataframe\">\n",
              "  <thead>\n",
              "    <tr style=\"text-align: right;\">\n",
              "      <th></th>\n",
              "      <th>Article</th>\n",
              "      <th>Heading</th>\n",
              "      <th>Date</th>\n",
              "      <th>NewsType</th>\n",
              "    </tr>\n",
              "  </thead>\n",
              "  <tbody>\n",
              "    <tr>\n",
              "      <th>0</th>\n",
              "      <td>[karachi, the, sindh, govern, have, decid, to,...</td>\n",
              "      <td>[sindh, govt, decid, to, cut, public, transpor...</td>\n",
              "      <td>1/1/2015</td>\n",
              "      <td>business</td>\n",
              "    </tr>\n",
              "    <tr>\n",
              "      <th>1</th>\n",
              "      <td>[hong, kong, asian, market, start, 2015, on, a...</td>\n",
              "      <td>[asia, stock, up, in, new, year, trad]</td>\n",
              "      <td>1/2/2015</td>\n",
              "      <td>business</td>\n",
              "    </tr>\n",
              "    <tr>\n",
              "      <th>2</th>\n",
              "      <td>[hong, kong, hong, kong, share, open, 0, 66, p...</td>\n",
              "      <td>[hong, kong, stock, open, 0, 66, percent, low]</td>\n",
              "      <td>1/5/2015</td>\n",
              "      <td>business</td>\n",
              "    </tr>\n",
              "    <tr>\n",
              "      <th>3</th>\n",
              "      <td>[hong, kong, asian, market, tumbl, tuesday, fo...</td>\n",
              "      <td>[asian, stock, sink, euro, near, nine, year]</td>\n",
              "      <td>1/6/2015</td>\n",
              "      <td>business</td>\n",
              "    </tr>\n",
              "    <tr>\n",
              "      <th>4</th>\n",
              "      <td>[new, york, us, oil, price, monday, slip, belo...</td>\n",
              "      <td>[u, oil, price, slip, below, 50, a, barr]</td>\n",
              "      <td>1/6/2015</td>\n",
              "      <td>business</td>\n",
              "    </tr>\n",
              "  </tbody>\n",
              "</table>\n",
              "</div>\n",
              "      <button class=\"colab-df-convert\" onclick=\"convertToInteractive('df-49a211ac-81ea-43a8-9d7b-945a18cda59f')\"\n",
              "              title=\"Convert this dataframe to an interactive table.\"\n",
              "              style=\"display:none;\">\n",
              "        \n",
              "  <svg xmlns=\"http://www.w3.org/2000/svg\" height=\"24px\"viewBox=\"0 0 24 24\"\n",
              "       width=\"24px\">\n",
              "    <path d=\"M0 0h24v24H0V0z\" fill=\"none\"/>\n",
              "    <path d=\"M18.56 5.44l.94 2.06.94-2.06 2.06-.94-2.06-.94-.94-2.06-.94 2.06-2.06.94zm-11 1L8.5 8.5l.94-2.06 2.06-.94-2.06-.94L8.5 2.5l-.94 2.06-2.06.94zm10 10l.94 2.06.94-2.06 2.06-.94-2.06-.94-.94-2.06-.94 2.06-2.06.94z\"/><path d=\"M17.41 7.96l-1.37-1.37c-.4-.4-.92-.59-1.43-.59-.52 0-1.04.2-1.43.59L10.3 9.45l-7.72 7.72c-.78.78-.78 2.05 0 2.83L4 21.41c.39.39.9.59 1.41.59.51 0 1.02-.2 1.41-.59l7.78-7.78 2.81-2.81c.8-.78.8-2.07 0-2.86zM5.41 20L4 18.59l7.72-7.72 1.47 1.35L5.41 20z\"/>\n",
              "  </svg>\n",
              "      </button>\n",
              "      \n",
              "  <style>\n",
              "    .colab-df-container {\n",
              "      display:flex;\n",
              "      flex-wrap:wrap;\n",
              "      gap: 12px;\n",
              "    }\n",
              "\n",
              "    .colab-df-convert {\n",
              "      background-color: #E8F0FE;\n",
              "      border: none;\n",
              "      border-radius: 50%;\n",
              "      cursor: pointer;\n",
              "      display: none;\n",
              "      fill: #1967D2;\n",
              "      height: 32px;\n",
              "      padding: 0 0 0 0;\n",
              "      width: 32px;\n",
              "    }\n",
              "\n",
              "    .colab-df-convert:hover {\n",
              "      background-color: #E2EBFA;\n",
              "      box-shadow: 0px 1px 2px rgba(60, 64, 67, 0.3), 0px 1px 3px 1px rgba(60, 64, 67, 0.15);\n",
              "      fill: #174EA6;\n",
              "    }\n",
              "\n",
              "    [theme=dark] .colab-df-convert {\n",
              "      background-color: #3B4455;\n",
              "      fill: #D2E3FC;\n",
              "    }\n",
              "\n",
              "    [theme=dark] .colab-df-convert:hover {\n",
              "      background-color: #434B5C;\n",
              "      box-shadow: 0px 1px 3px 1px rgba(0, 0, 0, 0.15);\n",
              "      filter: drop-shadow(0px 1px 2px rgba(0, 0, 0, 0.3));\n",
              "      fill: #FFFFFF;\n",
              "    }\n",
              "  </style>\n",
              "\n",
              "      <script>\n",
              "        const buttonEl =\n",
              "          document.querySelector('#df-49a211ac-81ea-43a8-9d7b-945a18cda59f button.colab-df-convert');\n",
              "        buttonEl.style.display =\n",
              "          google.colab.kernel.accessAllowed ? 'block' : 'none';\n",
              "\n",
              "        async function convertToInteractive(key) {\n",
              "          const element = document.querySelector('#df-49a211ac-81ea-43a8-9d7b-945a18cda59f');\n",
              "          const dataTable =\n",
              "            await google.colab.kernel.invokeFunction('convertToInteractive',\n",
              "                                                     [key], {});\n",
              "          if (!dataTable) return;\n",
              "\n",
              "          const docLinkHtml = 'Like what you see? Visit the ' +\n",
              "            '<a target=\"_blank\" href=https://colab.research.google.com/notebooks/data_table.ipynb>data table notebook</a>'\n",
              "            + ' to learn more about interactive tables.';\n",
              "          element.innerHTML = '';\n",
              "          dataTable['output_type'] = 'display_data';\n",
              "          await google.colab.output.renderOutput(dataTable, element);\n",
              "          const docLink = document.createElement('div');\n",
              "          docLink.innerHTML = docLinkHtml;\n",
              "          element.appendChild(docLink);\n",
              "        }\n",
              "      </script>\n",
              "    </div>\n",
              "  </div>\n",
              "  "
            ]
          },
          "metadata": {},
          "execution_count": 4
        }
      ]
    },
    {
      "cell_type": "markdown",
      "source": [
        "## Task 2: Latent Dirichlet Allocation\n",
        "\n",
        "Apply LDA to the tokenized dataset using `gensim`.\n",
        "\n",
        "1. Build a vocabulary using the gensim `Dictionary`\n",
        "2. filter outliers: words that occur in less than 20 documents of in more than 50% of the documents.\n",
        "3. create a BOW matrix for the preprocessed data\n",
        "4. Train the LDA model on the training data\n",
        "5. create a dataframe in which you map each document to a) its topic b) the topic's keywords"
      ],
      "metadata": {
        "collapsed": false,
        "id": "IVyNpjkCT88E"
      }
    },
    {
      "cell_type": "markdown",
      "source": [
        "### 2.1 Build Vocabulary (and filter outliers)"
      ],
      "metadata": {
        "id": "6Nw7ftpFJT46"
      }
    },
    {
      "cell_type": "code",
      "source": [
        "# build vocabulary\n",
        "docs_list = pre_df['Article'].tolist()\n",
        "dictionary = Dictionary(docs_list) # Create gensim dictionary \n",
        "\n",
        "# filter outliers: words that occur in less than 20 documents of in more than 50% of the documents\n",
        "dictionary.filter_extremes(no_below=20, no_above=0.5) \n",
        "\n",
        "print(dictionary)"
      ],
      "metadata": {
        "colab": {
          "base_uri": "https://localhost:8080/"
        },
        "id": "JEC9U7uFTo44",
        "outputId": "eb3de4bf-b218-4650-addf-de8cbc567bc2"
      },
      "execution_count": 5,
      "outputs": [
        {
          "output_type": "stream",
          "name": "stdout",
          "text": [
            "Dictionary<2820 unique tokens: ['7', 'add', 'applic', 'bring', 'cent']...>\n"
          ]
        }
      ]
    },
    {
      "cell_type": "markdown",
      "source": [
        "### 2.3 Create a BOW matrix"
      ],
      "metadata": {
        "id": "n71z708EUtJc"
      }
    },
    {
      "cell_type": "markdown",
      "source": [
        "The resulting bag-of-words is represented as a list of tuples, each tuple containing two values: the word ID and the frequency of that word in the document."
      ],
      "metadata": {
        "id": "xskYbaFLXuRf"
      }
    },
    {
      "cell_type": "code",
      "source": [
        "# this cell is not done\n",
        "# create a BOW representation\n",
        "bow_corpus = [dictionary.doc2bow(doc) for doc in docs_list]\n",
        "\n",
        "print(bow_corpus[:3])\n",
        "\n",
        "#convert it to a dense matrix \n",
        "bow_matrix = corpus2dense(bow_corpus, num_terms=len(dictionary), num_docs = len(bow_corpus))\n",
        "print(bow_matrix)"
      ],
      "metadata": {
        "colab": {
          "base_uri": "https://localhost:8080/"
        },
        "id": "eJq-dnEqUvPt",
        "outputId": "198652cd-b8eb-4fd3-ec7c-dc2c3c65d897"
      },
      "execution_count": 6,
      "outputs": [
        {
          "output_type": "stream",
          "name": "stdout",
          "text": [
            "[[(0, 1), (1, 1), (2, 1), (3, 1), (4, 1), (5, 1), (6, 1), (7, 1), (8, 1), (9, 1), (10, 1), (11, 1), (12, 1), (13, 1), (14, 1), (15, 1), (16, 1), (17, 3), (18, 4), (19, 1), (20, 1), (21, 1), (22, 1), (23, 1), (24, 1), (25, 1), (26, 2), (27, 1), (28, 1), (29, 1), (30, 1), (31, 2), (32, 1), (33, 2), (34, 2), (35, 1), (36, 1), (37, 1), (38, 1), (39, 1), (40, 4), (41, 1), (42, 1), (43, 1)], [(1, 1), (4, 2), (6, 3), (7, 1), (12, 1), (13, 1), (19, 1), (20, 1), (23, 1), (25, 1), (26, 1), (29, 1), (31, 3), (33, 1), (36, 1), (44, 13), (45, 1), (46, 2), (47, 15), (48, 2), (49, 1), (50, 1), (51, 1), (52, 2), (53, 3), (54, 2), (55, 1), (56, 1), (57, 1), (58, 4), (59, 1), (60, 2), (61, 1), (62, 1), (63, 2), (64, 6), (65, 4), (66, 1), (67, 2), (68, 1), (69, 1), (70, 2), (71, 1), (72, 6), (73, 1), (74, 2), (75, 6), (76, 3), (77, 2), (78, 2), (79, 1), (80, 2), (81, 1), (82, 1), (83, 1), (84, 3), (85, 1), (86, 3), (87, 2), (88, 2), (89, 1), (90, 1), (91, 1), (92, 2), (93, 1), (94, 1), (95, 1), (96, 1), (97, 1), (98, 1), (99, 2), (100, 1), (101, 1), (102, 1), (103, 1), (104, 1), (105, 1), (106, 1), (107, 1), (108, 1), (109, 1), (110, 1), (111, 1), (112, 1), (113, 2), (114, 1), (115, 1), (116, 1), (117, 4), (118, 1), (119, 1), (120, 2), (121, 1), (122, 1), (123, 3), (124, 1), (125, 1), (126, 2), (127, 1), (128, 1), (129, 1), (130, 3), (131, 1), (132, 1), (133, 1), (134, 1), (135, 8), (136, 2), (137, 5), (138, 1), (139, 1), (140, 1), (141, 3), (142, 1), (143, 1), (144, 3), (145, 1), (146, 1), (147, 1), (148, 3), (149, 1), (150, 1), (151, 3), (152, 1), (153, 3), (154, 1), (155, 1), (156, 4), (157, 1), (158, 1), (159, 2), (160, 1), (161, 1), (162, 1), (163, 3), (164, 1), (165, 4), (166, 1), (167, 3), (168, 1), (169, 1), (170, 1), (171, 1), (172, 2), (173, 1), (174, 1), (175, 1), (176, 1), (177, 2), (178, 1), (179, 1), (180, 3), (181, 2), (182, 2), (183, 1), (184, 1), (185, 1), (186, 2), (187, 1), (188, 1), (189, 1), (190, 1), (191, 1), (192, 3), (193, 1), (194, 9), (195, 2), (196, 1), (197, 1), (198, 1), (199, 1), (200, 2), (201, 5), (202, 2), (203, 1), (204, 1), (205, 1), (206, 2), (207, 2), (208, 4), (209, 1), (210, 1), (211, 2), (212, 1), (213, 3), (214, 2), (215, 1), (216, 1), (217, 1), (218, 1), (219, 1), (220, 1), (221, 2), (222, 1), (223, 1), (224, 1), (225, 4), (226, 2), (227, 2), (228, 1), (229, 1), (230, 1), (231, 1), (232, 1), (233, 2), (234, 1), (235, 1), (236, 3), (237, 1), (238, 1), (239, 1), (240, 1), (241, 6), (242, 2), (243, 1), (244, 1), (245, 1), (246, 1), (247, 1), (248, 1), (249, 2), (250, 1), (251, 1), (252, 2), (253, 1), (254, 1), (255, 1), (256, 1), (257, 2), (258, 3), (259, 6), (260, 1), (261, 1), (262, 1), (263, 22), (264, 1), (265, 8), (266, 2), (267, 1), (268, 1), (269, 1), (270, 3), (271, 1), (272, 1), (273, 1), (274, 1), (275, 1), (276, 1), (277, 1), (278, 4), (279, 1), (280, 1), (281, 1), (282, 6), (283, 2), (284, 1), (285, 1), (286, 2), (287, 1), (288, 1), (289, 1), (290, 1), (291, 1), (292, 1), (293, 1), (294, 1), (295, 1), (296, 1), (297, 1), (298, 3), (299, 1), (300, 1), (301, 3), (302, 1), (303, 1), (304, 1), (305, 1), (306, 2), (307, 2), (308, 3), (309, 1), (310, 1), (311, 1), (312, 1), (313, 2), (314, 1), (315, 1), (316, 1), (317, 1), (318, 1), (319, 1), (320, 1), (321, 2), (322, 1), (323, 2), (324, 1), (325, 2), (326, 1), (327, 1), (328, 1), (329, 2), (330, 1), (331, 1), (332, 1), (333, 1), (334, 1), (335, 1), (336, 6), (337, 1), (338, 1), (339, 1), (340, 5), (341, 6), (342, 1), (343, 1), (344, 1), (345, 2), (346, 1), (347, 4), (348, 1), (349, 1), (350, 2), (351, 6), (352, 2), (353, 2), (354, 1)], [(19, 1), (25, 1), (44, 1), (55, 1), (122, 1), (157, 1), (190, 1), (191, 1), (208, 2), (213, 1), (225, 2), (263, 1), (265, 1), (291, 1), (317, 1), (344, 1), (348, 1), (355, 1), (356, 1), (357, 1), (358, 1), (359, 1), (360, 1), (361, 1), (362, 1), (363, 1), (364, 1)]]\n",
            "[[1. 0. 0. ... 0. 0. 0.]\n",
            " [1. 1. 0. ... 0. 0. 1.]\n",
            " [1. 0. 0. ... 0. 1. 0.]\n",
            " ...\n",
            " [0. 0. 0. ... 0. 0. 0.]\n",
            " [0. 0. 0. ... 0. 0. 0.]\n",
            " [0. 0. 0. ... 0. 0. 0.]]\n"
          ]
        }
      ]
    },
    {
      "cell_type": "markdown",
      "source": [
        "### 2.4 create LDA model"
      ],
      "metadata": {
        "id": "dw2KRbFpVHY3"
      }
    },
    {
      "cell_type": "code",
      "source": [
        "num_topics = 10  # number of topics you want to identify\n",
        "lda_model = LdaModel(\n",
        "    corpus=bow_corpus,\n",
        "    id2word=dictionary,\n",
        "    num_topics=num_topics,\n",
        "    passes=20,  # number of passes through the corpus during training\n",
        "    alpha='auto',  # hyperparameter controlling the sparsity of the topic distribution\n",
        "    per_word_topics=True,  # return topic distribution for each word in the input corpus\n",
        "    random_state=42  # for reproducibility\n",
        ")\n"
      ],
      "metadata": {
        "id": "3p5exO3cVMwi"
      },
      "execution_count": 7,
      "outputs": []
    },
    {
      "cell_type": "code",
      "source": [
        "# Print the topics learned by the model\n",
        "for topic_id, topic in lda_model.show_topics(num_topics=num_topics, num_words=5, formatted=True):\n",
        "    print(f\"Topic {topic_id}: {topic}\\n\")"
      ],
      "metadata": {
        "id": "1fD0zMZcVg-u",
        "outputId": "4a80360a-4972-46b4-c973-e630a25b49b7",
        "colab": {
          "base_uri": "https://localhost:8080/"
        }
      },
      "execution_count": 8,
      "outputs": [
        {
          "output_type": "stream",
          "name": "stdout",
          "text": [
            "Topic 0: 0.023*\"pakistan\" + 0.010*\"minist\" + 0.010*\"countri\" + 0.009*\"govern\" + 0.009*\"invest\"\n",
            "\n",
            "Topic 1: 0.020*\"i\" + 0.019*\"hi\" + 0.009*\"who\" + 0.009*\"win\" + 0.008*\"final\"\n",
            "\n",
            "Topic 2: 0.010*\"not\" + 0.007*\"state\" + 0.006*\"which\" + 0.006*\"presid\" + 0.006*\"we\"\n",
            "\n",
            "Topic 3: 0.026*\"million\" + 0.024*\"billion\" + 0.014*\"percent\" + 0.010*\"1\" + 0.010*\"br\"\n",
            "\n",
            "Topic 4: 0.034*\"oil\" + 0.025*\"price\" + 0.016*\"crude\" + 0.014*\"barrel\" + 0.014*\"opec\"\n",
            "\n",
            "Topic 5: 0.019*\"run\" + 0.018*\"wicket\" + 0.017*\"over\" + 0.014*\"hi\" + 0.014*\"first\"\n",
            "\n",
            "Topic 6: 0.051*\"pakistan\" + 0.025*\"team\" + 0.017*\"khan\" + 0.017*\"cricket\" + 0.014*\"match\"\n",
            "\n",
            "Topic 7: 0.033*\"percent\" + 0.017*\"1\" + 0.013*\"0\" + 0.013*\"market\" + 0.011*\"dollar\"\n",
            "\n",
            "Topic 8: 0.025*\"cricket\" + 0.024*\"india\" + 0.021*\"test\" + 0.014*\"we\" + 0.013*\"play\"\n",
            "\n",
            "Topic 9: 0.028*\"england\" + 0.024*\"test\" + 0.019*\"hi\" + 0.019*\"pakistan\" + 0.014*\"first\"\n",
            "\n"
          ]
        }
      ]
    },
    {
      "cell_type": "markdown",
      "source": [
        "### 2.5 Map Topics to Docs "
      ],
      "metadata": {
        "id": "_5HrlEZ1WNpM"
      }
    },
    {
      "cell_type": "code",
      "source": [
        "# Map documents to topics\n",
        "document_topics = []\n",
        "for document in bow_corpus:  # Iterate over each document in the preprocessed corpus\n",
        "    topic_distribution = lda_model.get_document_topics(document)  # Get the topic distribution for the document\n",
        "    topic = max(topic_distribution, key=lambda x: x[1])[0]  # Find the topic with the highest probability\n",
        "    document_topics.append(topic)\n",
        "print('having mapped the topic ids on each doc, the TopicIDs of first five docs: ', document_topics[:5])\n",
        "\n",
        "# Get topic keywords\n",
        "num_keywords = 5  # Specify the number of keywords you want to retrieve for each topic\n",
        "topic_keywords = []\n",
        "for topic_id in range(lda_model.num_topics):\n",
        "    keywords_prob = lda_model.show_topic(topic_id, topn=num_keywords)  # Get the top 5 keywords for the topic\n",
        "    keywords = [keyword for keyword, _ in keywords_prob]\n",
        "    print('topicID ', topic_id, ' keywords: ', keywords)\n",
        "    topic_keywords.append(keywords) "
      ],
      "metadata": {
        "id": "3ugRZkPCZcjg",
        "outputId": "d821bf22-47d7-4e1f-8d8a-c5228fdc580c",
        "colab": {
          "base_uri": "https://localhost:8080/"
        }
      },
      "execution_count": 9,
      "outputs": [
        {
          "output_type": "stream",
          "name": "stdout",
          "text": [
            "having mapped the topic ids on each doc, the TopicIDs of first five docs:  [0, 7, 7, 7, 4]\n",
            "topicID  0  keywords:  ['pakistan', 'minist', 'countri', 'govern', 'invest']\n",
            "topicID  1  keywords:  ['i', 'hi', 'who', 'win', 'final']\n",
            "topicID  2  keywords:  ['not', 'state', 'which', 'presid', 'we']\n",
            "topicID  3  keywords:  ['million', 'billion', 'percent', '1', 'br']\n",
            "topicID  4  keywords:  ['oil', 'price', 'crude', 'barrel', 'opec']\n",
            "topicID  5  keywords:  ['run', 'wicket', 'over', 'hi', 'first']\n",
            "topicID  6  keywords:  ['pakistan', 'team', 'khan', 'cricket', 'match']\n",
            "topicID  7  keywords:  ['percent', '1', '0', 'market', 'dollar']\n",
            "topicID  8  keywords:  ['cricket', 'india', 'test', 'we', 'play']\n",
            "topicID  9  keywords:  ['england', 'test', 'hi', 'pakistan', 'first']\n"
          ]
        }
      ]
    },
    {
      "cell_type": "markdown",
      "source": [
        "### 2.5.1 Map TopicID"
      ],
      "metadata": {
        "id": "rfuKMD7hrx8p"
      }
    },
    {
      "cell_type": "code",
      "source": [
        "df['TopicID'] = document_topics\n",
        "#df['TopicKeywords'] = topic_keywords"
      ],
      "metadata": {
        "id": "KAn61RdkmqKy"
      },
      "execution_count": 10,
      "outputs": []
    },
    {
      "cell_type": "code",
      "source": [
        "df.head()"
      ],
      "metadata": {
        "id": "bHCmWtkolN0F",
        "outputId": "9cda2a84-9e3d-40d2-aead-42ad692e7db9",
        "colab": {
          "base_uri": "https://localhost:8080/",
          "height": 206
        }
      },
      "execution_count": 11,
      "outputs": [
        {
          "output_type": "execute_result",
          "data": {
            "text/plain": [
              "                                             Article      Date  \\\n",
              "0  KARACHI: The Sindh government has decided to b...  1/1/2015   \n",
              "1  HONG KONG: Asian markets started 2015 on an up...  1/2/2015   \n",
              "2  HONG KONG:  Hong Kong shares opened 0.66 perce...  1/5/2015   \n",
              "3  HONG KONG: Asian markets tumbled Tuesday follo...  1/6/2015   \n",
              "4  NEW YORK: US oil prices Monday slipped below $...  1/6/2015   \n",
              "\n",
              "                                             Heading  NewsType  TopicID  \n",
              "0  sindh govt decides to cut public transport far...  business        0  \n",
              "1                    asia stocks up in new year trad  business        7  \n",
              "2           hong kong stocks open 0.66 percent lower  business        7  \n",
              "3             asian stocks sink euro near nine year   business        7  \n",
              "4                 us oil prices slip below 50 a barr  business        4  "
            ],
            "text/html": [
              "\n",
              "  <div id=\"df-ecf4de19-feb0-499b-93b3-c73c31adeb2e\">\n",
              "    <div class=\"colab-df-container\">\n",
              "      <div>\n",
              "<style scoped>\n",
              "    .dataframe tbody tr th:only-of-type {\n",
              "        vertical-align: middle;\n",
              "    }\n",
              "\n",
              "    .dataframe tbody tr th {\n",
              "        vertical-align: top;\n",
              "    }\n",
              "\n",
              "    .dataframe thead th {\n",
              "        text-align: right;\n",
              "    }\n",
              "</style>\n",
              "<table border=\"1\" class=\"dataframe\">\n",
              "  <thead>\n",
              "    <tr style=\"text-align: right;\">\n",
              "      <th></th>\n",
              "      <th>Article</th>\n",
              "      <th>Date</th>\n",
              "      <th>Heading</th>\n",
              "      <th>NewsType</th>\n",
              "      <th>TopicID</th>\n",
              "    </tr>\n",
              "  </thead>\n",
              "  <tbody>\n",
              "    <tr>\n",
              "      <th>0</th>\n",
              "      <td>KARACHI: The Sindh government has decided to b...</td>\n",
              "      <td>1/1/2015</td>\n",
              "      <td>sindh govt decides to cut public transport far...</td>\n",
              "      <td>business</td>\n",
              "      <td>0</td>\n",
              "    </tr>\n",
              "    <tr>\n",
              "      <th>1</th>\n",
              "      <td>HONG KONG: Asian markets started 2015 on an up...</td>\n",
              "      <td>1/2/2015</td>\n",
              "      <td>asia stocks up in new year trad</td>\n",
              "      <td>business</td>\n",
              "      <td>7</td>\n",
              "    </tr>\n",
              "    <tr>\n",
              "      <th>2</th>\n",
              "      <td>HONG KONG:  Hong Kong shares opened 0.66 perce...</td>\n",
              "      <td>1/5/2015</td>\n",
              "      <td>hong kong stocks open 0.66 percent lower</td>\n",
              "      <td>business</td>\n",
              "      <td>7</td>\n",
              "    </tr>\n",
              "    <tr>\n",
              "      <th>3</th>\n",
              "      <td>HONG KONG: Asian markets tumbled Tuesday follo...</td>\n",
              "      <td>1/6/2015</td>\n",
              "      <td>asian stocks sink euro near nine year</td>\n",
              "      <td>business</td>\n",
              "      <td>7</td>\n",
              "    </tr>\n",
              "    <tr>\n",
              "      <th>4</th>\n",
              "      <td>NEW YORK: US oil prices Monday slipped below $...</td>\n",
              "      <td>1/6/2015</td>\n",
              "      <td>us oil prices slip below 50 a barr</td>\n",
              "      <td>business</td>\n",
              "      <td>4</td>\n",
              "    </tr>\n",
              "  </tbody>\n",
              "</table>\n",
              "</div>\n",
              "      <button class=\"colab-df-convert\" onclick=\"convertToInteractive('df-ecf4de19-feb0-499b-93b3-c73c31adeb2e')\"\n",
              "              title=\"Convert this dataframe to an interactive table.\"\n",
              "              style=\"display:none;\">\n",
              "        \n",
              "  <svg xmlns=\"http://www.w3.org/2000/svg\" height=\"24px\"viewBox=\"0 0 24 24\"\n",
              "       width=\"24px\">\n",
              "    <path d=\"M0 0h24v24H0V0z\" fill=\"none\"/>\n",
              "    <path d=\"M18.56 5.44l.94 2.06.94-2.06 2.06-.94-2.06-.94-.94-2.06-.94 2.06-2.06.94zm-11 1L8.5 8.5l.94-2.06 2.06-.94-2.06-.94L8.5 2.5l-.94 2.06-2.06.94zm10 10l.94 2.06.94-2.06 2.06-.94-2.06-.94-.94-2.06-.94 2.06-2.06.94z\"/><path d=\"M17.41 7.96l-1.37-1.37c-.4-.4-.92-.59-1.43-.59-.52 0-1.04.2-1.43.59L10.3 9.45l-7.72 7.72c-.78.78-.78 2.05 0 2.83L4 21.41c.39.39.9.59 1.41.59.51 0 1.02-.2 1.41-.59l7.78-7.78 2.81-2.81c.8-.78.8-2.07 0-2.86zM5.41 20L4 18.59l7.72-7.72 1.47 1.35L5.41 20z\"/>\n",
              "  </svg>\n",
              "      </button>\n",
              "      \n",
              "  <style>\n",
              "    .colab-df-container {\n",
              "      display:flex;\n",
              "      flex-wrap:wrap;\n",
              "      gap: 12px;\n",
              "    }\n",
              "\n",
              "    .colab-df-convert {\n",
              "      background-color: #E8F0FE;\n",
              "      border: none;\n",
              "      border-radius: 50%;\n",
              "      cursor: pointer;\n",
              "      display: none;\n",
              "      fill: #1967D2;\n",
              "      height: 32px;\n",
              "      padding: 0 0 0 0;\n",
              "      width: 32px;\n",
              "    }\n",
              "\n",
              "    .colab-df-convert:hover {\n",
              "      background-color: #E2EBFA;\n",
              "      box-shadow: 0px 1px 2px rgba(60, 64, 67, 0.3), 0px 1px 3px 1px rgba(60, 64, 67, 0.15);\n",
              "      fill: #174EA6;\n",
              "    }\n",
              "\n",
              "    [theme=dark] .colab-df-convert {\n",
              "      background-color: #3B4455;\n",
              "      fill: #D2E3FC;\n",
              "    }\n",
              "\n",
              "    [theme=dark] .colab-df-convert:hover {\n",
              "      background-color: #434B5C;\n",
              "      box-shadow: 0px 1px 3px 1px rgba(0, 0, 0, 0.15);\n",
              "      filter: drop-shadow(0px 1px 2px rgba(0, 0, 0, 0.3));\n",
              "      fill: #FFFFFF;\n",
              "    }\n",
              "  </style>\n",
              "\n",
              "      <script>\n",
              "        const buttonEl =\n",
              "          document.querySelector('#df-ecf4de19-feb0-499b-93b3-c73c31adeb2e button.colab-df-convert');\n",
              "        buttonEl.style.display =\n",
              "          google.colab.kernel.accessAllowed ? 'block' : 'none';\n",
              "\n",
              "        async function convertToInteractive(key) {\n",
              "          const element = document.querySelector('#df-ecf4de19-feb0-499b-93b3-c73c31adeb2e');\n",
              "          const dataTable =\n",
              "            await google.colab.kernel.invokeFunction('convertToInteractive',\n",
              "                                                     [key], {});\n",
              "          if (!dataTable) return;\n",
              "\n",
              "          const docLinkHtml = 'Like what you see? Visit the ' +\n",
              "            '<a target=\"_blank\" href=https://colab.research.google.com/notebooks/data_table.ipynb>data table notebook</a>'\n",
              "            + ' to learn more about interactive tables.';\n",
              "          element.innerHTML = '';\n",
              "          dataTable['output_type'] = 'display_data';\n",
              "          await google.colab.output.renderOutput(dataTable, element);\n",
              "          const docLink = document.createElement('div');\n",
              "          docLink.innerHTML = docLinkHtml;\n",
              "          element.appendChild(docLink);\n",
              "        }\n",
              "      </script>\n",
              "    </div>\n",
              "  </div>\n",
              "  "
            ]
          },
          "metadata": {},
          "execution_count": 11
        }
      ]
    },
    {
      "cell_type": "markdown",
      "source": [
        "### 2.5.2 retrieve and map topics keywords on docs"
      ],
      "metadata": {
        "id": "BqTs3K87r2zR"
      }
    },
    {
      "cell_type": "code",
      "source": [
        "# Create a function to retrieve topic keywords based on the topic ID\n",
        "def get_topic_keywords(row):\n",
        "    topic_id = row['TopicID']\n",
        "    if topic_id is not None:\n",
        "        return topic_keywords[topic_id]\n",
        "    else:\n",
        "        return None\n",
        "\n",
        "# Add the 'TopicKeywords' column to the DataFrame using the function\n",
        "df['TopicKeywords'] = df.apply(get_topic_keywords, axis=1)\n",
        "\n",
        "# Now the 'TopicKeywords' column is added to the DataFrame 'df' and filled with the corresponding topic keywords based on the 'TopicID' column\n"
      ],
      "metadata": {
        "id": "cLhLmQksltu1"
      },
      "execution_count": 12,
      "outputs": []
    },
    {
      "cell_type": "code",
      "source": [
        "df.head(5)"
      ],
      "metadata": {
        "id": "j42wV8Z6ogwo",
        "outputId": "f6521352-6fef-493c-aaf6-e2560cee9dc0",
        "colab": {
          "base_uri": "https://localhost:8080/",
          "height": 250
        }
      },
      "execution_count": 13,
      "outputs": [
        {
          "output_type": "execute_result",
          "data": {
            "text/plain": [
              "                                             Article      Date  \\\n",
              "0  KARACHI: The Sindh government has decided to b...  1/1/2015   \n",
              "1  HONG KONG: Asian markets started 2015 on an up...  1/2/2015   \n",
              "2  HONG KONG:  Hong Kong shares opened 0.66 perce...  1/5/2015   \n",
              "3  HONG KONG: Asian markets tumbled Tuesday follo...  1/6/2015   \n",
              "4  NEW YORK: US oil prices Monday slipped below $...  1/6/2015   \n",
              "\n",
              "                                             Heading  NewsType  TopicID  \\\n",
              "0  sindh govt decides to cut public transport far...  business        0   \n",
              "1                    asia stocks up in new year trad  business        7   \n",
              "2           hong kong stocks open 0.66 percent lower  business        7   \n",
              "3             asian stocks sink euro near nine year   business        7   \n",
              "4                 us oil prices slip below 50 a barr  business        4   \n",
              "\n",
              "                                 TopicKeywords  \n",
              "0  [pakistan, minist, countri, govern, invest]  \n",
              "1              [percent, 1, 0, market, dollar]  \n",
              "2              [percent, 1, 0, market, dollar]  \n",
              "3              [percent, 1, 0, market, dollar]  \n",
              "4            [oil, price, crude, barrel, opec]  "
            ],
            "text/html": [
              "\n",
              "  <div id=\"df-91ae58bb-3f5b-473c-be1c-8d61487aef78\">\n",
              "    <div class=\"colab-df-container\">\n",
              "      <div>\n",
              "<style scoped>\n",
              "    .dataframe tbody tr th:only-of-type {\n",
              "        vertical-align: middle;\n",
              "    }\n",
              "\n",
              "    .dataframe tbody tr th {\n",
              "        vertical-align: top;\n",
              "    }\n",
              "\n",
              "    .dataframe thead th {\n",
              "        text-align: right;\n",
              "    }\n",
              "</style>\n",
              "<table border=\"1\" class=\"dataframe\">\n",
              "  <thead>\n",
              "    <tr style=\"text-align: right;\">\n",
              "      <th></th>\n",
              "      <th>Article</th>\n",
              "      <th>Date</th>\n",
              "      <th>Heading</th>\n",
              "      <th>NewsType</th>\n",
              "      <th>TopicID</th>\n",
              "      <th>TopicKeywords</th>\n",
              "    </tr>\n",
              "  </thead>\n",
              "  <tbody>\n",
              "    <tr>\n",
              "      <th>0</th>\n",
              "      <td>KARACHI: The Sindh government has decided to b...</td>\n",
              "      <td>1/1/2015</td>\n",
              "      <td>sindh govt decides to cut public transport far...</td>\n",
              "      <td>business</td>\n",
              "      <td>0</td>\n",
              "      <td>[pakistan, minist, countri, govern, invest]</td>\n",
              "    </tr>\n",
              "    <tr>\n",
              "      <th>1</th>\n",
              "      <td>HONG KONG: Asian markets started 2015 on an up...</td>\n",
              "      <td>1/2/2015</td>\n",
              "      <td>asia stocks up in new year trad</td>\n",
              "      <td>business</td>\n",
              "      <td>7</td>\n",
              "      <td>[percent, 1, 0, market, dollar]</td>\n",
              "    </tr>\n",
              "    <tr>\n",
              "      <th>2</th>\n",
              "      <td>HONG KONG:  Hong Kong shares opened 0.66 perce...</td>\n",
              "      <td>1/5/2015</td>\n",
              "      <td>hong kong stocks open 0.66 percent lower</td>\n",
              "      <td>business</td>\n",
              "      <td>7</td>\n",
              "      <td>[percent, 1, 0, market, dollar]</td>\n",
              "    </tr>\n",
              "    <tr>\n",
              "      <th>3</th>\n",
              "      <td>HONG KONG: Asian markets tumbled Tuesday follo...</td>\n",
              "      <td>1/6/2015</td>\n",
              "      <td>asian stocks sink euro near nine year</td>\n",
              "      <td>business</td>\n",
              "      <td>7</td>\n",
              "      <td>[percent, 1, 0, market, dollar]</td>\n",
              "    </tr>\n",
              "    <tr>\n",
              "      <th>4</th>\n",
              "      <td>NEW YORK: US oil prices Monday slipped below $...</td>\n",
              "      <td>1/6/2015</td>\n",
              "      <td>us oil prices slip below 50 a barr</td>\n",
              "      <td>business</td>\n",
              "      <td>4</td>\n",
              "      <td>[oil, price, crude, barrel, opec]</td>\n",
              "    </tr>\n",
              "  </tbody>\n",
              "</table>\n",
              "</div>\n",
              "      <button class=\"colab-df-convert\" onclick=\"convertToInteractive('df-91ae58bb-3f5b-473c-be1c-8d61487aef78')\"\n",
              "              title=\"Convert this dataframe to an interactive table.\"\n",
              "              style=\"display:none;\">\n",
              "        \n",
              "  <svg xmlns=\"http://www.w3.org/2000/svg\" height=\"24px\"viewBox=\"0 0 24 24\"\n",
              "       width=\"24px\">\n",
              "    <path d=\"M0 0h24v24H0V0z\" fill=\"none\"/>\n",
              "    <path d=\"M18.56 5.44l.94 2.06.94-2.06 2.06-.94-2.06-.94-.94-2.06-.94 2.06-2.06.94zm-11 1L8.5 8.5l.94-2.06 2.06-.94-2.06-.94L8.5 2.5l-.94 2.06-2.06.94zm10 10l.94 2.06.94-2.06 2.06-.94-2.06-.94-.94-2.06-.94 2.06-2.06.94z\"/><path d=\"M17.41 7.96l-1.37-1.37c-.4-.4-.92-.59-1.43-.59-.52 0-1.04.2-1.43.59L10.3 9.45l-7.72 7.72c-.78.78-.78 2.05 0 2.83L4 21.41c.39.39.9.59 1.41.59.51 0 1.02-.2 1.41-.59l7.78-7.78 2.81-2.81c.8-.78.8-2.07 0-2.86zM5.41 20L4 18.59l7.72-7.72 1.47 1.35L5.41 20z\"/>\n",
              "  </svg>\n",
              "      </button>\n",
              "      \n",
              "  <style>\n",
              "    .colab-df-container {\n",
              "      display:flex;\n",
              "      flex-wrap:wrap;\n",
              "      gap: 12px;\n",
              "    }\n",
              "\n",
              "    .colab-df-convert {\n",
              "      background-color: #E8F0FE;\n",
              "      border: none;\n",
              "      border-radius: 50%;\n",
              "      cursor: pointer;\n",
              "      display: none;\n",
              "      fill: #1967D2;\n",
              "      height: 32px;\n",
              "      padding: 0 0 0 0;\n",
              "      width: 32px;\n",
              "    }\n",
              "\n",
              "    .colab-df-convert:hover {\n",
              "      background-color: #E2EBFA;\n",
              "      box-shadow: 0px 1px 2px rgba(60, 64, 67, 0.3), 0px 1px 3px 1px rgba(60, 64, 67, 0.15);\n",
              "      fill: #174EA6;\n",
              "    }\n",
              "\n",
              "    [theme=dark] .colab-df-convert {\n",
              "      background-color: #3B4455;\n",
              "      fill: #D2E3FC;\n",
              "    }\n",
              "\n",
              "    [theme=dark] .colab-df-convert:hover {\n",
              "      background-color: #434B5C;\n",
              "      box-shadow: 0px 1px 3px 1px rgba(0, 0, 0, 0.15);\n",
              "      filter: drop-shadow(0px 1px 2px rgba(0, 0, 0, 0.3));\n",
              "      fill: #FFFFFF;\n",
              "    }\n",
              "  </style>\n",
              "\n",
              "      <script>\n",
              "        const buttonEl =\n",
              "          document.querySelector('#df-91ae58bb-3f5b-473c-be1c-8d61487aef78 button.colab-df-convert');\n",
              "        buttonEl.style.display =\n",
              "          google.colab.kernel.accessAllowed ? 'block' : 'none';\n",
              "\n",
              "        async function convertToInteractive(key) {\n",
              "          const element = document.querySelector('#df-91ae58bb-3f5b-473c-be1c-8d61487aef78');\n",
              "          const dataTable =\n",
              "            await google.colab.kernel.invokeFunction('convertToInteractive',\n",
              "                                                     [key], {});\n",
              "          if (!dataTable) return;\n",
              "\n",
              "          const docLinkHtml = 'Like what you see? Visit the ' +\n",
              "            '<a target=\"_blank\" href=https://colab.research.google.com/notebooks/data_table.ipynb>data table notebook</a>'\n",
              "            + ' to learn more about interactive tables.';\n",
              "          element.innerHTML = '';\n",
              "          dataTable['output_type'] = 'display_data';\n",
              "          await google.colab.output.renderOutput(dataTable, element);\n",
              "          const docLink = document.createElement('div');\n",
              "          docLink.innerHTML = docLinkHtml;\n",
              "          element.appendChild(docLink);\n",
              "        }\n",
              "      </script>\n",
              "    </div>\n",
              "  </div>\n",
              "  "
            ]
          },
          "metadata": {},
          "execution_count": 13
        }
      ]
    }
  ],
  "metadata": {
    "kernelspec": {
      "display_name": "Python 3",
      "language": "python",
      "name": "python3"
    },
    "language_info": {
      "codemirror_mode": {
        "name": "ipython",
        "version": 2
      },
      "file_extension": ".py",
      "mimetype": "text/x-python",
      "name": "python",
      "nbconvert_exporter": "python",
      "pygments_lexer": "ipython2",
      "version": "2.7.6"
    },
    "colab": {
      "provenance": [],
      "include_colab_link": true
    }
  },
  "nbformat": 4,
  "nbformat_minor": 0
}